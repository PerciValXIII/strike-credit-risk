{
 "cells": [
  {
   "cell_type": "code",
   "execution_count": 0,
   "metadata": {
    "application/vnd.databricks.v1+cell": {
     "cellMetadata": {
      "byteLimit": 2048000,
      "rowLimit": 10000
     },
     "inputWidgets": {},
     "nuid": "3d6a4625-1717-471e-a256-0b8714fd09b0",
     "showTitle": false,
     "tableResultSettingsMap": {},
     "title": ""
    }
   },
   "outputs": [],
   "source": [
    "from pyspark.sql import SparkSession\n",
    "from pyspark.sql import functions as F\n",
    "from pyspark.sql.functions import col\n",
    "from pyspark.sql.window import Window"
   ]
  },
  {
   "cell_type": "code",
   "execution_count": 0,
   "metadata": {
    "application/vnd.databricks.v1+cell": {
     "cellMetadata": {
      "byteLimit": 2048000,
      "rowLimit": 10000
     },
     "inputWidgets": {},
     "nuid": "80ba55df-5e72-46db-881c-58db29107f0f",
     "showTitle": false,
     "tableResultSettingsMap": {},
     "title": ""
    }
   },
   "outputs": [],
   "source": [
    "spark = SparkSession.builder.appName(\"HomeCreditRiskML\").getOrCreate()"
   ]
  },
  {
   "cell_type": "code",
   "execution_count": 0,
   "metadata": {
    "application/vnd.databricks.v1+cell": {
     "cellMetadata": {
      "byteLimit": 2048000,
      "rowLimit": 10000
     },
     "inputWidgets": {},
     "nuid": "c6f14b04-f6f4-479c-916f-9631ef4900e0",
     "showTitle": false,
     "tableResultSettingsMap": {},
     "title": ""
    }
   },
   "outputs": [],
   "source": [
    "application_train = spark.table(\"hive_metastore.default.application_train\")\n",
    "credit_card_balance = spark.table(\"hive_metastore.default.credit_card_balance\")\n",
    "pos_cash_balance = spark.table(\"hive_metastore.default.pos_cash_balance\")\n",
    "installments_payments = spark.table(\"hive_metastore.default.installments_payments\")\n",
    "application_train.createOrReplaceTempView(\"application_train_temp\")\n",
    "installments_payments.createOrReplaceTempView(\"installments_payments_temp\")\n",
    "pos_cash_balance.createOrReplaceTempView(\"pos_cash_balance_temp\")\n",
    "credit_card_balance.createOrReplaceTempView(\"credit_card_balance_temp\")\n",
    " "
   ]
  },
  {
   "cell_type": "code",
   "execution_count": 0,
   "metadata": {
    "application/vnd.databricks.v1+cell": {
     "cellMetadata": {
      "byteLimit": 2048000,
      "rowLimit": 10000
     },
     "inputWidgets": {},
     "nuid": "3a863cb3-5236-4e43-9825-8ad36a031e1e",
     "showTitle": false,
     "tableResultSettingsMap": {},
     "title": ""
    }
   },
   "outputs": [],
   "source": [
    "pos_cash_balance_reduced = pos_cash_balance.alias(\"a\") \\\n",
    "    .join(application_train.alias(\"b\"), on=\"SK_ID_CURR\", how=\"inner\") \\\n",
    "    .withColumn(\"NAME_CONTRACT_TYPE\", F.lit(\"Cash loans\")) \\\n",
    "    .select(\"a.*\", \"NAME_CONTRACT_TYPE\") "
   ]
  },
  {
   "cell_type": "code",
   "execution_count": 0,
   "metadata": {
    "application/vnd.databricks.v1+cell": {
     "cellMetadata": {
      "byteLimit": 2048000,
      "rowLimit": 10000
     },
     "inputWidgets": {},
     "nuid": "fc10bbe8-bcba-4381-a925-d3cba5d6017e",
     "showTitle": false,
     "tableResultSettingsMap": {},
     "title": ""
    }
   },
   "outputs": [
    {
     "output_type": "stream",
     "name": "stdout",
     "output_type": "stream",
     "text": [
      "True\n"
     ]
    }
   ],
   "source": [
    "if pos_cash_balance_reduced.count()<pos_cash_balance.count():\n",
    "    print(True)\n",
    "else:\n",
    "    print(False)"
   ]
  },
  {
   "cell_type": "code",
   "execution_count": 0,
   "metadata": {
    "application/vnd.databricks.v1+cell": {
     "cellMetadata": {
      "byteLimit": 2048000,
      "rowLimit": 10000
     },
     "inputWidgets": {},
     "nuid": "3559f351-4ad6-49d5-aaab-03986014b2f8",
     "showTitle": false,
     "tableResultSettingsMap": {},
     "title": ""
    }
   },
   "outputs": [],
   "source": [
    "credit_card_balance_reduced = credit_card_balance.alias(\"a\") \\\n",
    "    .join(application_train.alias(\"b\"), on=\"SK_ID_CURR\", how=\"inner\") \\\n",
    "    .withColumn(\"NAME_CONTRACT_TYPE\", F.lit(\"Revolving loans\")) \\\n",
    "    .select(\"a.*\", \"NAME_CONTRACT_TYPE\") "
   ]
  },
  {
   "cell_type": "code",
   "execution_count": 0,
   "metadata": {
    "application/vnd.databricks.v1+cell": {
     "cellMetadata": {
      "byteLimit": 2048000,
      "rowLimit": 10000
     },
     "inputWidgets": {},
     "nuid": "d4285d2a-f011-41a6-bbca-1012f29af23b",
     "showTitle": false,
     "tableResultSettingsMap": {},
     "title": ""
    }
   },
   "outputs": [
    {
     "output_type": "stream",
     "name": "stdout",
     "output_type": "stream",
     "text": [
      "True\n"
     ]
    }
   ],
   "source": [
    "if credit_card_balance_reduced.count()<credit_card_balance.count():\n",
    "    print(True)\n",
    "else:\n",
    "    print(False)"
   ]
  },
  {
   "cell_type": "code",
   "execution_count": 0,
   "metadata": {
    "application/vnd.databricks.v1+cell": {
     "cellMetadata": {
      "byteLimit": 2048000,
      "rowLimit": 10000
     },
     "inputWidgets": {},
     "nuid": "04d85c9b-a0a3-48f0-b752-5c25eeb880d7",
     "showTitle": false,
     "tableResultSettingsMap": {},
     "title": ""
    }
   },
   "outputs": [],
   "source": [
    "sql_query=\"\"\"\n",
    "Select distinct a.*, CASE \n",
    "        WHEN c.SK_ID_PREV IS NOT NULL AND c.SK_ID_CURR IS NOT NULL THEN 'Cash loans'\n",
    "        WHEN d.SK_ID_PREV IS NOT NULL AND d.SK_ID_CURR IS NOT NULL THEN 'Revolving loans'\n",
    "        ELSE NULL\n",
    "    END AS NAME_CONTRACT_TYPE \n",
    "     from (\n",
    "SELECT \n",
    "    a.* \n",
    "   \n",
    "FROM \n",
    "    installments_payments_temp a \n",
    "JOIN \n",
    "    application_train_temp b \n",
    "ON \n",
    "    a.SK_ID_CURR = b.SK_ID_CURR ) a\n",
    "LEFT JOIN \n",
    "    pos_cash_balance_temp c \n",
    "ON \n",
    "    a.SK_ID_PREV = c.SK_ID_PREV and a.SK_ID_CURR = c.SK_ID_CURR\n",
    "LEFT JOIN \n",
    "    credit_card_balance_temp d \n",
    "ON \n",
    "    a.SK_ID_PREV = d.SK_ID_PREV  and a.SK_ID_CURR = d.SK_ID_CURR\n",
    "\"\"\"\n",
    "installments_payments_reduced=spark.sql(sql_query)"
   ]
  },
  {
   "cell_type": "code",
   "execution_count": 0,
   "metadata": {
    "application/vnd.databricks.v1+cell": {
     "cellMetadata": {
      "byteLimit": 2048000,
      "rowLimit": 10000
     },
     "inputWidgets": {},
     "nuid": "bc0fdd7b-4380-489e-afcb-75a66267e8b6",
     "showTitle": false,
     "tableResultSettingsMap": {},
     "title": ""
    }
   },
   "outputs": [
    {
     "output_type": "stream",
     "name": "stdout",
     "output_type": "stream",
     "text": [
      "+----------+----------+\n|SK_ID_CURR|SK_ID_CURR|\n+----------+----------+\n+----------+----------+\n\n"
     ]
    }
   ],
   "source": [
    "sql_query=\"\"\"\n",
    "Select a.SK_ID_CURR, d.SK_ID_CURR from\n",
    "    pos_cash_balance_temp a\n",
    "JOIN \n",
    "    credit_card_balance_temp d \n",
    "ON \n",
    "    a.SK_ID_PREV = d.SK_ID_PREV  and a.SK_ID_CURR = d.SK_ID_CURR\n",
    "\"\"\"\n",
    "temp=spark.sql(sql_query)\n",
    "temp.show( 10)"
   ]
  },
  {
   "cell_type": "code",
   "execution_count": 0,
   "metadata": {
    "application/vnd.databricks.v1+cell": {
     "cellMetadata": {
      "byteLimit": 2048000,
      "rowLimit": 10000
     },
     "inputWidgets": {},
     "nuid": "99992e70-fa14-466e-a6b7-c26356089f09",
     "showTitle": false,
     "tableResultSettingsMap": {},
     "title": ""
    }
   },
   "outputs": [
    {
     "output_type": "stream",
     "name": "stdout",
     "output_type": "stream",
     "text": [
      "True\n"
     ]
    }
   ],
   "source": [
    "if installments_payments_reduced.count()<installments_payments.count():\n",
    "    print(True)\n",
    "else:\n",
    "    print(False,installments_payments.count(),installments_payments_reduced.count())"
   ]
  },
  {
   "cell_type": "code",
   "execution_count": 0,
   "metadata": {
    "application/vnd.databricks.v1+cell": {
     "cellMetadata": {
      "byteLimit": 2048000,
      "rowLimit": 10000
     },
     "inputWidgets": {},
     "nuid": "6ba47c06-89b1-4119-926d-36303169cbbc",
     "showTitle": false,
     "tableResultSettingsMap": {},
     "title": ""
    }
   },
   "outputs": [
    {
     "output_type": "stream",
     "name": "stdout",
     "output_type": "stream",
     "text": [
      "+----------+----------+--------------+--------------+---------------------+--------------------+------+----------+------------------+\n|SK_ID_PREV|SK_ID_CURR|MONTHS_BALANCE|CNT_INSTALMENT|CNT_INSTALMENT_FUTURE|NAME_CONTRACT_STATUS|SK_DPD|SK_DPD_DEF|NAME_CONTRACT_TYPE|\n+----------+----------+--------------+--------------+---------------------+--------------------+------+----------+------------------+\n|   1897619|    143146|           -81|           6.0|                  4.0|              Active|     0|         0|        Cash loans|\n|   2682972|    182522|           -85|          12.0|                  9.0|              Active|     0|         0|        Cash loans|\n|   1307675|    272606|           -86|           6.0|                  4.0|              Active|     0|         0|        Cash loans|\n|   1772094|    242128|           -85|          12.0|                  8.0|              Active|     0|         0|        Cash loans|\n|   1305733|    181302|           -81|           6.0|                  2.0|              Active|     0|         0|        Cash loans|\n|   2466812|    264624|           -86|           6.0|                  1.0|              Active|     0|         0|        Cash loans|\n|   2272806|    188376|           -82|          10.0|                  5.0|              Active|     0|         0|        Cash loans|\n|   2764837|    370123|           -79|          12.0|                  8.0|              Active|     0|         0|        Cash loans|\n|   1267702|    405663|           -82|           6.0|                  3.0|              Active|     0|         0|        Cash loans|\n|   2148088|    292275|           -81|           6.0|                  4.0|              Active|     0|         0|        Cash loans|\n+----------+----------+--------------+--------------+---------------------+--------------------+------+----------+------------------+\nonly showing top 10 rows\n\n"
     ]
    }
   ],
   "source": [
    "posh_cash_balance_reduced.show(10)\n",
    "                                      "
   ]
  },
  {
   "cell_type": "code",
   "execution_count": 0,
   "metadata": {
    "application/vnd.databricks.v1+cell": {
     "cellMetadata": {
      "byteLimit": 2048000,
      "rowLimit": 10000
     },
     "inputWidgets": {},
     "nuid": "1be719fc-0b94-4a7d-89e1-05f19f88299b",
     "showTitle": false,
     "tableResultSettingsMap": {},
     "title": ""
    }
   },
   "outputs": [
    {
     "output_type": "stream",
     "name": "stdout",
     "output_type": "stream",
     "text": [
      "+----------+----------+------------------+-----------------------+-----------------------+-----------------------+--------------------------+-------------------------+-----------------------+-----------------------+-----------------------+--------------------------+------------------------------+------------------------------+------------------------------+---------------------------------+--------------------------+-----------------------------+------------+--------------------+-------------------+------------------+----------------+--------------------+-------------------+-------------------+------------------------+------------------------+---------------------------+--------------------------+---------------------------+------------------------+-----------------------------+--------------------------------+---------------------------+------------------------------+\n|SK_ID_CURR|SK_ID_PREV|NAME_CONTRACT_TYPE|amtf_months_balance_max|amtf_months_balance_min|amtf_months_balance_avg|amtf_months_balance_stddev|amtf_loan_duration_months|amtf_cnt_instalment_max|amtf_cnt_instalment_min|amtf_cnt_instalment_avg|amtf_cnt_instalment_stddev|amtf_cnt_instalment_future_min|amtf_cnt_instalment_future_avg|amtf_cnt_instalment_future_max|amtf_cnt_instalment_future_stddev|amtf_instalments_completed|amtf_future_installment_ratio|amtf_max_dpd|amtf_avg_dpd        |amtf_stddev_dpd    |amtf_overdue_count|amtf_max_dpd_def|amtf_avg_dpd_def    |amtf_stddev_dpd_def|amtf_deferral_count|amtf_deferral_proportion|amtf_active_status_count|amtf_completed_status_count|amtf_approved_status_count|amtf_cancelled_status_count|amtf_demand_status_count|amtf_active_status_proportion|amtf_completed_status_proportion|amtf_active_status_duration|amtf_completed_status_duration|\n+----------+----------+------------------+-----------------------+-----------------------+-----------------------+--------------------------+-------------------------+-----------------------+-----------------------+-----------------------+--------------------------+------------------------------+------------------------------+------------------------------+---------------------------------+--------------------------+-----------------------------+------------+--------------------+-------------------+------------------+----------------+--------------------+-------------------+-------------------+------------------------+------------------------+---------------------------+--------------------------+---------------------------+------------------------+-----------------------------+--------------------------------+---------------------------+------------------------------+\n|156448    |1117392   |Cash loans        |-57                    |-69                    |-63.0                  |3.8944404818493084        |13                       |12.0                   |12.0                   |12.0                   |0.0                       |0.0                           |6.0                           |12.0                          |3.894440481849308                |78.0                      |0.5                          |0           |0.0                 |0.0                |0                 |0               |0.0                 |0.0                |0                  |0.0                     |12                      |1                          |0                         |0                          |0                       |0.9230769230769231           |0.07692307692307693             |-762                       |-57                           |\n|104621    |2048566   |Cash loans        |-48                    |-59                    |-53.5                  |3.60555127546399          |12                       |12.0                   |12.0                   |12.0                   |0.0                       |1.0                           |6.5                           |12.0                          |3.605551275463989                |66.0                      |0.5416666666666666           |0           |0.0                 |0.0                |0                 |0               |0.0                 |0.0                |0                  |0.0                     |12                      |0                          |0                         |0                          |0                       |1.0                          |0.0                             |-642                       |0                             |\n|292042    |2765526   |Cash loans        |-48                    |-59                    |-53.5                  |3.605551275463989         |12                       |11.0                   |11.0                   |11.0                   |0.0                       |0.0                           |5.5                           |11.0                          |3.605551275463989                |66.0                      |0.5                          |0           |0.0                 |0.0                |0                 |0               |0.0                 |0.0                |0                  |0.0                     |11                      |1                          |0                         |0                          |0                       |0.9166666666666666           |0.08333333333333333             |-594                       |-48                           |\n|313138    |1691394   |Cash loans        |-86                    |-92                    |-89.0                  |2.1602468994692865        |7                        |6.0                    |6.0                    |6.0                    |0.0                       |0.0                           |3.0                           |6.0                           |2.160246899469287                |21.0                      |0.5                          |0           |0.0                 |0.0                |0                 |0               |0.0                 |0.0                |0                  |0.0                     |6                       |1                          |0                         |0                          |0                       |0.8571428571428571           |0.14285714285714285             |-537                       |-86                           |\n|448635    |1927039   |Cash loans        |-22                    |-56                    |-39.0                  |10.246950765959598        |35                       |36.0                   |34.0                   |35.94285714285714      |0.33806170189140655       |0.0                           |18.942857142857143            |36.0                          |10.349603166995617               |595.0                     |0.527027027027027            |0           |0.0                 |0.0                |0                 |0               |0.0                 |0.0                |0                  |0.0                     |33                      |1                          |0                         |0                          |0                       |0.9428571428571428           |0.02857142857142857             |-1287                      |-22                           |\n|156451    |2055795   |Cash loans        |-50                    |-60                    |-55.0                  |3.3166247903553994        |11                       |10.0                   |10.0                   |10.0                   |0.0                       |0.0                           |5.0                           |10.0                          |3.3166247903554                  |55.0                      |0.5                          |0           |0.0                 |0.0                |0                 |0               |0.0                 |0.0                |0                  |0.0                     |10                      |1                          |0                         |0                          |0                       |0.9090909090909091           |0.09090909090909091             |-555                       |-50                           |\n|369414    |1494010   |Cash loans        |-52                    |-62                    |-57.0                  |3.3166247903554007        |11                       |10.0                   |10.0                   |10.0                   |0.0                       |0.0                           |5.0                           |10.0                          |3.3166247903553994               |55.0                      |0.5                          |0           |0.0                 |0.0                |0                 |0               |0.0                 |0.0                |0                  |0.0                     |10                      |1                          |0                         |0                          |0                       |0.9090909090909091           |0.09090909090909091             |-575                       |-52                           |\n|148487    |2508385   |Cash loans        |-1                     |-6                     |-3.5                   |1.8708286933869707        |6                        |36.0                   |36.0                   |36.0                   |0.0                       |31.0                          |33.5                          |36.0                          |1.8708286933869707               |15.0                      |0.9305555555555556           |0           |0.0                 |0.0                |0                 |0               |0.0                 |0.0                |0                  |0.0                     |6                       |0                          |0                         |0                          |0                       |1.0                          |0.0                             |-21                        |0                             |\n|425103    |1622784   |Cash loans        |-59                    |-64                    |-61.5                  |1.870828693386971         |6                        |5.0                    |5.0                    |5.0                    |0.0                       |0.0                           |2.5                           |5.0                           |1.8708286933869707               |15.0                      |0.5                          |0           |0.0                 |0.0                |0                 |0               |0.0                 |0.0                |0                  |0.0                     |5                       |1                          |0                         |0                          |0                       |0.8333333333333334           |0.16666666666666666             |-310                       |-59                           |\n|315685    |2717517   |Cash loans        |-59                    |-67                    |-63.0                  |2.7386127875258293        |9                        |6.0                    |6.0                    |6.0                    |0.0                       |0.0                           |3.0                           |6.0                           |2.3979157616563596               |27.0                      |0.5                          |0           |0.0                 |0.0                |0                 |0               |0.0                 |0.0                |0                  |0.0                     |7                       |1                          |0                         |0                          |0                       |0.7777777777777778           |0.1111111111111111              |-441                       |-59                           |\n|302209    |1850247   |Cash loans        |-52                    |-61                    |-56.5                  |3.0276503540974904        |10                       |6.0                    |6.0                    |6.0                    |0.0                       |0.0                           |2.7                           |6.0                           |2.4517567397911058               |33.0                      |0.45                         |44          |5.8                 |14.124840215418761 |2                 |0               |0.0                 |0.0                |0                  |0.0                     |8                       |1                          |0                         |0                          |0                       |0.8                          |0.1                             |-452                       |-52                           |\n|414232    |1647850   |Cash loans        |-50                    |-61                    |-55.5                  |3.605551275463989         |12                       |11.0                   |11.0                   |11.0                   |0.0                       |0.0                           |5.5                           |11.0                          |3.605551275463989                |66.0                      |0.5                          |0           |0.0                 |0.0                |0                 |0               |0.0                 |0.0                |0                  |0.0                     |11                      |1                          |0                         |0                          |0                       |0.9166666666666666           |0.08333333333333333             |-616                       |-50                           |\n|433741    |1783065   |Cash loans        |-78                    |-90                    |-84.0                  |3.8944404818493052        |13                       |12.0                   |12.0                   |12.0                   |0.0                       |0.0                           |6.0                           |12.0                          |3.8944404818493075               |78.0                      |0.5                          |0           |0.0                 |0.0                |0                 |0               |0.0                 |0.0                |0                  |0.0                     |12                      |1                          |0                         |0                          |0                       |0.9230769230769231           |0.07692307692307693             |-1014                      |-78                           |\n|419959    |2103895   |Cash loans        |-8                     |-13                    |-10.5                  |1.8708286933869707        |6                        |18.0                   |5.0                    |15.833333333333334     |5.307227776030219         |0.0                           |13.333333333333334            |18.0                          |6.683312551921141                |15.0                      |0.8421052631578947           |0           |0.0                 |0.0                |0                 |0               |0.0                 |0.0                |0                  |0.0                     |5                       |1                          |0                         |0                          |0                       |0.8333333333333334           |0.16666666666666666             |-55                        |-8                            |\n|405708    |2429589   |Cash loans        |-61                    |-70                    |-65.5                  |3.0276503540974917        |10                       |10.0                   |10.0                   |10.0                   |0.0                       |1.0                           |5.5                           |10.0                          |3.0276503540974917               |45.0                      |0.55                         |0           |0.0                 |0.0                |0                 |0               |0.0                 |0.0                |0                  |0.0                     |10                      |0                          |0                         |0                          |0                       |1.0                          |0.0                             |-655                       |0                             |\n|121514    |1646600   |Cash loans        |-1                     |-11                    |-6.0                   |3.3166247903554           |11                       |18.0                   |18.0                   |18.0                   |0.0                       |8.0                           |13.0                          |18.0                          |3.3166247903554                  |55.0                      |0.7222222222222222           |0           |0.0                 |0.0                |0                 |0               |0.0                 |0.0                |0                  |0.0                     |11                      |0                          |0                         |0                          |0                       |1.0                          |0.0                             |-66                        |0                             |\n|335341    |1598619   |Cash loans        |-77                    |-83                    |-80.0                  |2.160246899469287         |7                        |6.0                    |6.0                    |6.0                    |0.0                       |0.0                           |3.0                           |6.0                           |2.160246899469287                |21.0                      |0.5                          |0           |0.0                 |0.0                |0                 |0               |0.0                 |0.0                |0                  |0.0                     |6                       |1                          |0                         |0                          |0                       |0.8571428571428571           |0.14285714285714285             |-483                       |-77                           |\n|380225    |2184812   |Cash loans        |-76                    |-88                    |-82.0                  |3.8944404818493052        |13                       |12.0                   |12.0                   |12.0                   |0.0                       |0.0                           |6.0                           |12.0                          |3.894440481849307                |78.0                      |0.5                          |20          |8.76923076923077    |9.8755071275171    |6                 |0               |0.0                 |0.0                |0                  |0.0                     |12                      |1                          |0                         |0                          |0                       |0.9230769230769231           |0.07692307692307693             |-990                       |-76                           |\n|122831    |1385330   |Cash loans        |-47                    |-62                    |-54.5                  |4.760952285695233         |16                       |16.0                   |16.0                   |16.0                   |0.0                       |0.0                           |7.6875                        |16.0                          |5.016223679223247                |133.0                     |0.48046875                   |0           |0.0                 |0.0                |0                 |0               |0.0                 |0.0                |0                  |0.0                     |15                      |1                          |0                         |0                          |0                       |0.9375                       |0.0625                          |-825                       |-47                           |\n|246481    |2613156   |Cash loans        |-3                     |-43                    |-23.0                  |11.979148550710937        |41                       |48.0                   |48.0                   |48.0                   |0.0                       |8.0                           |28.0                          |48.0                          |11.979148550710939               |820.0                     |0.5833333333333334           |1           |0.024390243902439025|0.15617376188860607|1                 |1               |0.024390243902439025|0.15617376188860607|1                  |0.024390243902439025    |40                      |0                          |0                         |0                          |0                       |0.975609756097561            |0.0                             |-900                       |0                             |\n+----------+----------+------------------+-----------------------+-----------------------+-----------------------+--------------------------+-------------------------+-----------------------+-----------------------+-----------------------+--------------------------+------------------------------+------------------------------+------------------------------+---------------------------------+--------------------------+-----------------------------+------------+--------------------+-------------------+------------------+----------------+--------------------+-------------------+-------------------+------------------------+------------------------+---------------------------+--------------------------+---------------------------+------------------------+-----------------------------+--------------------------------+---------------------------+------------------------------+\nonly showing top 20 rows\n\n"
     ]
    }
   ],
   "source": [
    "pos_cash_features = pos_cash_balance_reduced.groupBy(\"SK_ID_CURR\", \"SK_ID_PREV\").agg(\n",
    "   F.max(\"MONTHS_BALANCE\").alias(\"amtf_months_balance_max\"),  # Most recent snapshot\n",
    "    F.min(\"MONTHS_BALANCE\").alias(\"amtf_months_balance_min\"),  # Earliest snapshot\n",
    "    F.avg(\"MONTHS_BALANCE\").alias(\"amtf_months_balance_avg\"),  # Average snapshot\n",
    "    F.stddev(\"MONTHS_BALANCE\").alias(\"amtf_months_balance_stddev\"),  # Stddev of snapshots\n",
    "    (F.max(\"MONTHS_BALANCE\") - F.min(\"MONTHS_BALANCE\") + 1).alias(\"amtf_loan_duration_months\"),  # Loan duration\n",
    "\n",
    "    # Installment Features\n",
    "    F.max(\"CNT_INSTALMENT\").alias(\"amtf_cnt_instalment_max\"),  # Max number of installments\n",
    "    F.min(\"CNT_INSTALMENT\").alias(\"amtf_cnt_instalment_min\"),  # Min number of installments\n",
    "    F.avg(\"CNT_INSTALMENT\").alias(\"amtf_cnt_instalment_avg\"),  # Avg number of installments\n",
    "    F.stddev(\"CNT_INSTALMENT\").alias(\"amtf_cnt_instalment_stddev\"),  # Stddev of installments\n",
    "    F.min(\"CNT_INSTALMENT_FUTURE\").alias(\"amtf_cnt_instalment_future_min\"),  # Min future installments\n",
    "    F.avg(\"CNT_INSTALMENT_FUTURE\").alias(\"amtf_cnt_instalment_future_avg\"),  # Avg future installments\n",
    "    F.max(\"CNT_INSTALMENT_FUTURE\").alias(\"amtf_cnt_instalment_future_max\"),  # Max future installments\n",
    "    F.stddev(\"CNT_INSTALMENT_FUTURE\").alias(\"amtf_cnt_instalment_future_stddev\"),  # Stddev of future installments\n",
    "    (F.sum(\"CNT_INSTALMENT\") - F.sum(\"CNT_INSTALMENT_FUTURE\")).alias(\"amtf_instalments_completed\"),  # Completed installments\n",
    "    (F.sum(\"CNT_INSTALMENT_FUTURE\") / F.sum(\"CNT_INSTALMENT\")).alias(\"amtf_future_installment_ratio\"),  # Remaining ratio\n",
    "\n",
    "    # Delinquency and Default Risk Features\n",
    "    F.max(\"SK_DPD\").alias(\"amtf_max_dpd\"),  # Max days past due\n",
    "    F.avg(\"SK_DPD\").alias(\"amtf_avg_dpd\"),  # Average days past due\n",
    "    F.stddev(\"SK_DPD\").alias(\"amtf_stddev_dpd\"),  # Stddev of days past due\n",
    "    F.sum(F.when(F.col(\"SK_DPD\") > 0, 1).otherwise(0)).alias(\"amtf_overdue_count\"),  # Count of overdue records\n",
    "    F.max(\"SK_DPD_DEF\").alias(\"amtf_max_dpd_def\"),  # Max days past due with deferrals\n",
    "    F.avg(\"SK_DPD_DEF\").alias(\"amtf_avg_dpd_def\"),  # Average days past due with deferrals\n",
    "    F.stddev(\"SK_DPD_DEF\").alias(\"amtf_stddev_dpd_def\"),  # Stddev of days past due with deferrals\n",
    "    F.sum(F.when(F.col(\"SK_DPD_DEF\") > 0, 1).otherwise(0)).alias(\"amtf_deferral_count\"),  # Count of deferrals\n",
    "    (F.sum(F.when(F.col(\"SK_DPD_DEF\") > 0, 1).otherwise(0)) / F.count(\"*\")).alias(\"amtf_deferral_proportion\"),  # Proportion of deferrals\n",
    "\n",
    "    # Contract Status Features\n",
    "    F.sum(F.when(F.col(\"NAME_CONTRACT_STATUS\") == \"Active\", 1).otherwise(0)).alias(\"amtf_active_status_count\"),  # Active status count\n",
    "    F.sum(F.when(F.col(\"NAME_CONTRACT_STATUS\") == \"Completed\", 1).otherwise(0)).alias(\"amtf_completed_status_count\"),  # Completed status count\n",
    "    F.sum(F.when(F.col(\"NAME_CONTRACT_STATUS\") == \"Approved\", 1).otherwise(0)).alias(\"amtf_approved_status_count\"),  # Approved status count\n",
    "    F.sum(F.when(F.col(\"NAME_CONTRACT_STATUS\") == \"Cancelled\", 1).otherwise(0)).alias(\"amtf_cancelled_status_count\"),  # Cancelled status count\n",
    "    F.sum(F.when(F.col(\"NAME_CONTRACT_STATUS\") == \"Demand\", 1).otherwise(0)).alias(\"amtf_demand_status_count\"),  # Demand status count\n",
    "\n",
    "    # Derived Ratios\n",
    "    (F.sum(F.when(F.col(\"NAME_CONTRACT_STATUS\") == \"Active\", 1).otherwise(0)) / F.count(\"*\")).alias(\"amtf_active_status_proportion\"),  # Active proportion\n",
    "    (F.sum(F.when(F.col(\"NAME_CONTRACT_STATUS\") == \"Completed\", 1).otherwise(0)) / F.count(\"*\")).alias(\"amtf_completed_status_proportion\"),  # Completed proportion\n",
    "\n",
    "    # Status Duration Features\n",
    "    F.sum(F.when(F.col(\"NAME_CONTRACT_STATUS\") == \"Active\", F.col(\"MONTHS_BALANCE\")).otherwise(0)).alias(\"amtf_active_status_duration\"),  # Active duration\n",
    "    F.sum(F.when(F.col(\"NAME_CONTRACT_STATUS\") == \"Completed\", F.col(\"MONTHS_BALANCE\")).otherwise(0)).alias(\"amtf_completed_status_duration\")  # Completed duration\n",
    ")\n",
    "pos_cash_features_final = pos_cash_balance_reduced.select(\"SK_ID_CURR\", \"SK_ID_PREV\", \"NAME_CONTRACT_TYPE\").distinct() \\\n",
    "    .join(pos_cash_features, on=[\"SK_ID_CURR\", \"SK_ID_PREV\"], how=\"inner\")\n",
    "pos_cash_features_final.show(truncate=False)\n"
   ]
  },
  {
   "cell_type": "code",
   "execution_count": 0,
   "metadata": {
    "application/vnd.databricks.v1+cell": {
     "cellMetadata": {
      "byteLimit": 2048000,
      "rowLimit": 10000
     },
     "inputWidgets": {},
     "nuid": "b782a70c-4eb3-462d-9c30-ab36d4572929",
     "showTitle": false,
     "tableResultSettingsMap": {},
     "title": ""
    }
   },
   "outputs": [
    {
     "output_type": "execute_result",
     "data": {
      "text/plain": [
       "800337"
      ]
     },
     "execution_count": 49,
     "metadata": {},
     "output_type": "execute_result"
    }
   ],
   "source": [
    "pos_cash_balance_reduced.select(\"SK_ID_CURR\", \"SK_ID_PREV\").distinct().count()"
   ]
  },
  {
   "cell_type": "code",
   "execution_count": 0,
   "metadata": {
    "application/vnd.databricks.v1+cell": {
     "cellMetadata": {
      "byteLimit": 2048000,
      "rowLimit": 10000
     },
     "inputWidgets": {},
     "nuid": "15353a24-8f2c-4e7b-b54c-8b7a928b207d",
     "showTitle": false,
     "tableResultSettingsMap": {},
     "title": ""
    }
   },
   "outputs": [
    {
     "output_type": "execute_result",
     "data": {
      "text/plain": [
       "800337"
      ]
     },
     "execution_count": 50,
     "metadata": {},
     "output_type": "execute_result"
    }
   ],
   "source": [
    "pos_cash_features_final.count()"
   ]
  },
  {
   "cell_type": "code",
   "execution_count": 0,
   "metadata": {
    "application/vnd.databricks.v1+cell": {
     "cellMetadata": {
      "byteLimit": 2048000,
      "rowLimit": 10000
     },
     "inputWidgets": {},
     "nuid": "a7bdef89-c9e4-4126-b0cc-530f68be301b",
     "showTitle": false,
     "tableResultSettingsMap": {},
     "title": ""
    }
   },
   "outputs": [
    {
     "output_type": "stream",
     "name": "stdout",
     "output_type": "stream",
     "text": [
      "+----------+----------+--------------+-----------+-----------------------+------------------------+--------------------+--------------------------+------------------------+-----------------------+-------------------+-------------------------+------------------------+-------------+--------------------+------------------------+--------------------+--------------------------+------------------------+-------------------------+--------------------+------+----------+------------------+\n|SK_ID_CURR|SK_ID_PREV|MONTHS_BALANCE|AMT_BALANCE|AMT_CREDIT_LIMIT_ACTUAL|AMT_DRAWINGS_ATM_CURRENT|AMT_DRAWINGS_CURRENT|AMT_DRAWINGS_OTHER_CURRENT|AMT_DRAWINGS_POS_CURRENT|AMT_INST_MIN_REGULARITY|AMT_PAYMENT_CURRENT|AMT_PAYMENT_TOTAL_CURRENT|AMT_RECEIVABLE_PRINCIPAL|AMT_RECIVABLE|AMT_TOTAL_RECEIVABLE|CNT_DRAWINGS_ATM_CURRENT|CNT_DRAWINGS_CURRENT|CNT_DRAWINGS_OTHER_CURRENT|CNT_DRAWINGS_POS_CURRENT|CNT_INSTALMENT_MATURE_CUM|NAME_CONTRACT_STATUS|SK_DPD|SK_DPD_DEF|NAME_CONTRACT_TYPE|\n+----------+----------+--------------+-----------+-----------------------+------------------------+--------------------+--------------------------+------------------------+-----------------------+-------------------+-------------------------+------------------------+-------------+--------------------+------------------------+--------------------+--------------------------+------------------------+-------------------------+--------------------+------+----------+------------------+\n|    349553|   1599530|           -20|        0.0|                 180000|                     0.0|                 0.0|                       0.0|                     0.0|                    0.0|                0.0|                      0.0|                     0.0|          0.0|                 0.0|                     0.0|                   0|                       0.0|                     0.0|                     31.0|           Completed|     0|         0|   Revolving loans|\n|    397673|   2536060|           -16|    110.565|                  67500|                     0.0|                 0.0|                       0.0|                     0.0|                    0.0|                0.0|                      0.0|                     0.0|      110.565|             110.565|                     0.0|                   0|                       0.0|                     0.0|                     34.0|              Active|  1309|         0|   Revolving loans|\n|    307171|   2737584|           -15|        0.0|                 180000|                     0.0|                 0.0|                       0.0|                     0.0|                    0.0|            144.225|                      0.0|                     0.0|          0.0|                 0.0|                     0.0|                   0|                       0.0|                     0.0|                     55.0|              Active|     0|         0|   Revolving loans|\n|    427753|   1259992|           -14|        0.0|                 360000|                    NULL|                 0.0|                      NULL|                    NULL|                    0.0|               NULL|                      0.0|                     0.0|          0.0|                 0.0|                    NULL|                   0|                      NULL|                    NULL|                      0.0|              Active|     0|         0|   Revolving loans|\n|    202249|   2792210|           -14|        0.0|                  90000|                     0.0|                 0.0|                       0.0|                     0.0|                    0.0|           2846.385|                      0.0|                     0.0|          0.0|                 0.0|                     0.0|                   0|                       0.0|                     0.0|                     51.0|              Active|     0|         0|   Revolving loans|\n|    306535|   1875628|           -16|        0.0|                 270000|                    NULL|                 0.0|                      NULL|                    NULL|                    0.0|               NULL|                      0.0|                     0.0|          0.0|                 0.0|                    NULL|                   0|                      NULL|                    NULL|                      0.0|              Active|     0|         0|   Revolving loans|\n|    242131|   2511853|           -16|        0.0|                      0|                     0.0|                 0.0|                       0.0|                     0.0|                    0.0|                0.0|                      0.0|                     0.0|          0.0|                 0.0|                     0.0|                   0|                       0.0|                     0.0|                      1.0|              Active|     0|         0|   Revolving loans|\n|    305084|   1718184|           -17|        0.0|                  90000|                     0.0|                 0.0|                       0.0|                     0.0|                    0.0|            850.455|                      0.0|                     0.0|          0.0|                 0.0|                     0.0|                   0|                       0.0|                     0.0|                     55.0|              Active|     0|         0|   Revolving loans|\n|    372868|   2404890|           -17|        0.0|                 270000|                     0.0|                 0.0|                       0.0|                     0.0|                    0.0|           8716.005|                      0.0|                     0.0|          0.0|                 0.0|                     0.0|                   0|                       0.0|                     0.0|                     61.0|              Active|     0|         0|   Revolving loans|\n|    110718|   1201750|           -14|        0.0|                  45000|                     0.0|                 0.0|                       0.0|                     0.0|                    0.0|                0.0|                      0.0|                     0.0|          0.0|                 0.0|                     0.0|                   0|                       0.0|                     0.0|                      6.0|           Completed|     0|         0|   Revolving loans|\n|    131444|   2535469|           -14|        0.0|                 180000|                     0.0|                 0.0|                       0.0|                     0.0|                    0.0|            635.805|                      0.0|                     0.0|          0.0|                 0.0|                     0.0|                   0|                       0.0|                     0.0|                     45.0|              Active|     0|         0|   Revolving loans|\n|    235281|   2317804|           -13|        0.0|                 180000|                     0.0|                 0.0|                       0.0|                     0.0|                    0.0|            268.065|                      0.0|                     0.0|          0.0|                 0.0|                     0.0|                   0|                       0.0|                     0.0|                     55.0|              Active|     0|         0|   Revolving loans|\n|    392204|   1176859|           -20|        0.0|                 112500|                     0.0|                 0.0|                       0.0|                     0.0|                    0.0|           2204.055|                      0.0|                     0.0|          0.0|                 0.0|                     0.0|                   0|                       0.0|                     0.0|                     33.0|              Active|     0|         0|   Revolving loans|\n|    129098|   1244501|           -15|        0.0|                 450000|                    NULL|                 0.0|                      NULL|                    NULL|                    0.0|               NULL|                      0.0|                     0.0|          0.0|                 0.0|                    NULL|                   0|                      NULL|                    NULL|                      0.0|              Active|     0|         0|   Revolving loans|\n|    284328|   2287925|           -17|        0.0|                  67500|                     0.0|                 0.0|                       0.0|                     0.0|                    0.0|            206.505|                      0.0|                     0.0|          0.0|                 0.0|                     0.0|                   0|                       0.0|                     0.0|                     18.0|              Active|     0|         0|   Revolving loans|\n|    378016|   2510494|           -17|        0.0|                      0|                     0.0|                 0.0|                       0.0|                     0.0|                    0.0|                0.0|                      0.0|                     0.0|          0.0|                 0.0|                     0.0|                   0|                       0.0|                     0.0|                     25.0|           Completed|     0|         0|   Revolving loans|\n|    424046|   2588078|           -13|        0.0|                 225000|                     0.0|                 0.0|                       0.0|                     0.0|                    0.0|              3.915|                    3.915|                     0.0|          0.0|                 0.0|                     0.0|                   0|                       0.0|                     0.0|                      8.0|              Active|     0|         0|   Revolving loans|\n|    256040|   2015344|           -21|        0.0|                      0|                     0.0|                 0.0|                       0.0|                     0.0|                    0.0|            134.325|                      0.0|                     0.0|          0.0|                 0.0|                     0.0|                   0|                       0.0|                     0.0|                     10.0|              Active|     0|         0|   Revolving loans|\n|    245894|   2000603|           -19|        0.0|                 292500|                    NULL|                 0.0|                      NULL|                    NULL|                    0.0|               NULL|                      0.0|                     0.0|          0.0|                 0.0|                    NULL|                   0|                      NULL|                    NULL|                      0.0|              Active|     0|         0|   Revolving loans|\n|    170351|   2523863|           -21|        0.0|                  67500|                     0.0|                 0.0|                       0.0|                     0.0|                    0.0|             264.78|                      0.0|                     0.0|          0.0|                 0.0|                     0.0|                   0|                       0.0|                     0.0|                     32.0|              Active|     0|         0|   Revolving loans|\n+----------+----------+--------------+-----------+-----------------------+------------------------+--------------------+--------------------------+------------------------+-----------------------+-------------------+-------------------------+------------------------+-------------+--------------------+------------------------+--------------------+--------------------------+------------------------+-------------------------+--------------------+------+----------+------------------+\nonly showing top 20 rows\n\n"
     ]
    }
   ],
   "source": [
    "credit_card_balance_reduced.show()"
   ]
  },
  {
   "cell_type": "code",
   "execution_count": 0,
   "metadata": {
    "application/vnd.databricks.v1+cell": {
     "cellMetadata": {
      "byteLimit": 2048000,
      "rowLimit": 10000
     },
     "inputWidgets": {},
     "nuid": "b98ff674-f9b0-49f1-90cd-173e34ff3c99",
     "showTitle": false,
     "tableResultSettingsMap": {},
     "title": ""
    }
   },
   "outputs": [
    {
     "output_type": "stream",
     "name": "stdout",
     "output_type": "stream",
     "text": [
      "+----------+----------+------------------+--------------------+--------------------+--------------------+-----------------------+--------------------+---------------------+---------------------+---------------------+-----------------------------+---------------------------+----------------------------+----------------------------+----------------------------+----------------------------+----------------------------------+----------------------------------+-----------------------------+-----------------------------+-----------------------------+-----------------------+-----------------------+-------------------------+-------------------------+---------------------------+---------------------------+--------------------------------+--------------------------------+-------------------------+-------------------------+---------------------------+------------+--------------------+----------------------+--------------------+----------------+--------------------+--------------------------+-----------------------------+-----------------------------+--------------------------------+\n|SK_ID_CURR|SK_ID_PREV|NAME_CONTRACT_TYPE|amtf_amt_balance_max|amtf_amt_balance_min|amtf_amt_balance_avg|amtf_amt_balance_stddev|amtf_amt_balance_sum|amtf_credit_limit_max|amtf_credit_limit_min|amtf_credit_limit_avg|amtf_credit_utilization_ratio|amtf_credit_utilization_max|amtf_amt_payment_current_max|amtf_amt_payment_current_min|amtf_amt_payment_current_avg|amtf_amt_payment_current_sum|amtf_amt_payment_total_current_max|amtf_amt_payment_total_current_sum|amtf_receivable_principal_max|amtf_receivable_principal_min|amtf_receivable_principal_avg|amtf_amt_receivable_sum|amtf_amt_receivable_avg|amtf_amt_drawings_atm_sum|amtf_amt_drawings_pos_sum|amtf_amt_drawings_other_sum|amtf_amt_drawings_total_sum|amtf_atm_to_total_drawings_ratio|amtf_pos_to_total_drawings_ratio|amtf_cnt_drawings_atm_avg|amtf_cnt_drawings_pos_avg|amtf_cnt_drawings_total_avg|amtf_dpd_max|amtf_dpd_avg        |amtf_dpd_overdue_count|amtf_dpd_proportion |amtf_dpd_def_max|amtf_dpd_def_avg    |amtf_active_contract_count|amtf_completed_contract_count|amtf_active_status_proportion|amtf_completed_status_proportion|\n+----------+----------+------------------+--------------------+--------------------+--------------------+-----------------------+--------------------+---------------------+---------------------+---------------------+-----------------------------+---------------------------+----------------------------+----------------------------+----------------------------+----------------------------+----------------------------------+----------------------------------+-----------------------------+-----------------------------+-----------------------------+-----------------------+-----------------------+-------------------------+-------------------------+---------------------------+---------------------------+--------------------------------+--------------------------------+-------------------------+-------------------------+---------------------------+------------+--------------------+----------------------+--------------------+----------------+--------------------+--------------------------+-----------------------------+-----------------------------+--------------------------------+\n|393568    |1286071   |Revolving loans   |117023.31           |0.0                 |41698.36858695652   |24709.295633466605     |1918124.955         |135000               |45000                |60652.17391304348    |0.6874999838709678           |0.8668393333333333         |45000.0                     |0.0                         |6942.419021739131           |319351.275                  |45000.0                           |319351.275                        |113626.845                   |0.0                          |40219.7497826087             |1907766.2249999999     |41473.17880434782      |120600.0                 |227331.0                 |0.0                        |347931.0                   |0.3466204506065858              |0.6533795493934142              |0.15555555555555556      |0.7111111111111111       |0.8478260869565217         |0           |0.0                 |0                     |0.0                 |0               |0.0                 |46                        |0                            |1.0                          |0.0                             |\n|216014    |2529065   |Revolving loans   |472655.34           |0.0                 |121475.1556451613   |171109.09371762324     |3765729.825         |450000               |0                    |200322.5806451613    |0.6063977173913043           |1.0503452                  |454770.0                    |0.0                         |23497.918448275854          |681439.6349999998           |432383.04                         |524907.0                          |447859.62                    |0.0                          |117672.77322580646           |3741204.465            |120684.015             |428400.0                 |68482.035                |0.0                        |496882.035                 |0.8621764721278362              |0.13782352787216387             |0.967741935483871        |1.4516129032258065       |2.4193548387096775         |0           |0.0                 |0                     |0.0                 |0               |0.0                 |31                        |0                            |1.0                          |0.0                             |\n|164773    |1235292   |Revolving loans   |88727.04            |11475.045           |53720.36763157895   |24073.24928086997      |1020686.985         |135000               |67500                |96868.42105263157    |0.554570488997555            |0.6572373333333333         |13500.0                     |0.0                         |6211.110789473684           |118011.105                  |13500.0                           |118011.105                        |84411.45                     |10966.095                    |51985.11789473684            |1014362.55             |53387.50263157895      |126000.0                 |13060.665                |0.0                        |139060.665                 |0.9060793719057794              |0.09392062809422061             |0.47368421052631576      |0.15789473684210525      |0.631578947368421          |0           |0.0                 |0                     |0.0                 |0               |0.0                 |19                        |0                            |1.0                          |0.0                             |\n|243476    |2685730   |Revolving loans   |0.0                 |0.0                 |0.0                 |0.0                    |0.0                 |450000               |450000               |450000.0             |0.0                          |0.0                        |NULL                        |NULL                        |NULL                        |NULL                        |0.0                               |0.0                               |0.0                          |0.0                          |0.0                          |0.0                    |0.0                    |NULL                     |NULL                     |NULL                       |0.0                        |NULL                            |NULL                            |NULL                     |NULL                     |0.0                        |0           |0.0                 |0                     |0.0                 |0               |0.0                 |22                        |0                            |1.0                          |0.0                             |\n|145345    |2567665   |Revolving loans   |431103.285          |0.0                 |73786.01884615385   |116395.25773503738     |2877654.7350000003  |450000               |135000               |312692.3076923077    |0.23597004797047974          |0.9580072999999999         |466515.0                    |0.0                         |20999.79576923077           |818992.0349999999           |466515.0                          |818992.0349999999                 |418683.06                    |0.0                          |70780.52307692308            |2855678.8049999997     |73222.53346153845      |787950.0                 |0.0                      |0.0                        |793501.2                   |0.9930041693698762              |0.0                             |0.7435897435897436       |0.0                      |0.7435897435897436         |8           |0.38461538461538464 |2                     |0.05128205128205128 |0               |0.0                 |39                        |0                            |1.0                          |0.0                             |\n|189341    |1143782   |Revolving loans   |199038.78           |0.0                 |108826.39800000002  |65307.970194108355     |1632395.9700000002  |675000               |675000               |675000.0             |0.16122429333333335          |0.29487226666666666        |43650.0                     |4500.0                      |20074.255714285715          |281039.58                   |41400.0                           |278789.58                         |192002.895                   |0.0                          |99868.00200000001            |1570564.44             |104704.296             |146250.0                 |225621.09                |0.0                        |371871.08999999997         |0.39328144599785914             |0.6067185540021409              |2.533333333333333        |8.2                      |10.733333333333333         |0           |0.0                 |0                     |0.0                 |0               |0.0                 |15                        |0                            |1.0                          |0.0                             |\n|222105    |1660323   |Revolving loans   |430386.345          |0.0                 |33347.76039473684   |115140.92893355702     |1267214.895         |450000               |45000                |332763.15789473685   |0.10021470106761567          |0.9564140999999999         |424845.0                    |0.0                         |12797.46355263158           |486303.61500000005          |424845.0                          |486303.61500000005                |418609.125                   |0.0                          |32449.908552631576           |1261819.08             |33205.7652631579       |427500.0                 |0.0                      |0.0                        |427500.0                   |1.0                             |0.0                             |0.10526315789473684      |0.0                      |0.10526315789473684        |0           |0.0                 |0                     |0.0                 |0               |0.0                 |38                        |0                            |1.0                          |0.0                             |\n|294112    |1031335   |Revolving loans   |143192.835          |0.0                 |28685.931585365855  |47258.90268712188      |2352246.39          |135000               |45000                |120731.70731707317   |0.23760064545454546          |1.0606876666666667         |18000.0                     |0.0                         |2881.312682926829           |236267.63999999998          |18000.0                           |231840.0                          |135000.0                     |0.0                          |27392.73201219512            |2351444.715            |28676.15506097561      |135000.0                 |0.0                      |0.0                        |135000.0                   |1.0                             |0.0                             |0.09876543209876543      |0.0                      |0.0975609756097561         |1           |0.04878048780487805 |4                     |0.04878048780487805 |1               |0.04878048780487805 |82                        |0                            |1.0                          |0.0                             |\n|417092    |2290646   |Revolving loans   |450.0               |0.0                 |16.071428571428573  |85.04200642707613      |450.0               |450000               |0                    |225000.0             |7.142857142857143E-5         |0.001                      |450.0                       |0.0                         |16.666666666666668          |450.0                       |450.0                             |450.0                             |0.0                          |0.0                          |0.0                          |450.0                  |16.071428571428573     |NULL                     |NULL                     |NULL                       |0.0                        |NULL                            |NULL                            |NULL                     |NULL                     |0.0                        |0           |0.0                 |0                     |0.0                 |0               |0.0                 |24                        |4                            |0.8571428571428571           |0.14285714285714285             |\n|204726    |1716203   |Revolving loans   |196520.085          |20637.945           |169439.49444444446  |26676.568571777534     |1.372459905E7       |337500               |180000               |181944.44444444444   |0.931270503816794            |0.5822817333333333         |157500.0                    |0.0                         |11912.222222222223          |964890.0                    |157500.0                          |964890.0                          |179708.85                    |18678.375                    |162191.92611111113           |1.372459905E7          |169439.49444444446     |338400.0                 |0.0                      |230062.5                   |568462.5                   |0.5952899267761725              |0.0                             |0.5555555555555556       |0.0                      |0.5925925925925926         |1           |0.037037037037037035|3                     |0.037037037037037035|1               |0.037037037037037035|81                        |0                            |1.0                          |0.0                             |\n|275072    |1997756   |Revolving loans   |0.0                 |0.0                 |0.0                 |0.0                    |0.0                 |180000               |180000               |180000.0             |0.0                          |0.0                        |450.0                       |0.0                         |125.0                       |9000.0                      |450.0                             |900.0                             |0.0                          |0.0                          |0.0                          |-3532.5                |-49.0625               |NULL                     |NULL                     |NULL                       |0.0                        |NULL                            |NULL                            |NULL                     |NULL                     |0.0                        |0           |0.0                 |0                     |0.0                 |0               |0.0                 |47                        |25                           |0.6527777777777778           |0.3472222222222222              |\n|443855    |1214743   |Revolving loans   |189517.365          |0.0                 |31415.582499999993  |56777.680534909356     |2261921.9399999995  |180000               |0                    |150000.0             |0.20943721666666662          |1.05287425                 |47250.0                     |0.0                         |6593.4037499999995          |474725.06999999995          |47250.0                           |474569.73                         |168750.0                     |0.0                          |29391.561875                 |2264169.8249999997     |31446.803124999995     |348750.0                 |0.0                      |0.0                        |348760.215                 |0.9999707105353172              |0.0                             |0.16666666666666666      |0.0                      |0.1527777777777778         |732         |128.09722222222223  |29                    |0.4027777777777778  |1               |0.027777777777777776|72                        |0                            |1.0                          |0.0                             |\n|208325    |1359897   |Revolving loans   |157446.27           |0.0                 |86772.85342105264   |19959.445927749235     |8243421.075000001   |135000               |90000                |91421.05263157895    |0.9491561398963732           |1.1662686666666666         |93330.0                     |0.0                         |5657.105368421053           |537425.01                   |93330.0                           |535857.435                        |131336.955                   |0.0                          |81818.055                    |8242262.1450000005     |86760.65415789474      |258300.0                 |132667.38                |0.0                        |390967.38                  |0.6606689284410378              |0.3393310715589623              |0.5638297872340425       |0.6382978723404256       |1.1894736842105262         |1           |0.16842105263157894 |16                    |0.16842105263157894 |1               |0.16842105263157894 |94                        |0                            |0.9894736842105263           |0.0                             |\n|250964    |1840209   |Revolving loans   |104851.08           |0.0                 |20922.672187500004  |33466.23340128848      |2008576.5300000003  |112500               |45000                |98437.5              |0.21254778095238097          |0.9320096                  |5670.0                      |126.855                     |2134.4596875                |204908.13                   |5670.0                            |196920.0                          |101549.79                    |0.0                          |19989.14765625               |2007379.2149999999     |20910.200156249997     |0.0                      |0.0                      |0.0                        |0.0                        |NULL                            |NULL                            |0.0                      |0.0                      |0.0                        |0           |0.0                 |0                     |0.0                 |0               |0.0                 |96                        |0                            |1.0                          |0.0                             |\n|451601    |2697345   |Revolving loans   |102964.32           |0.0                 |3949.0434375        |19095.468855600717     |379108.17           |112500               |0                    |33984.375            |0.11620173793103447          |0.9152384                  |80640.0                     |2082.915                    |3282.3623437499996          |315106.785                  |80640.0                           |124515.0                          |99596.295                    |0.0                          |3804.920625                  |361398.33              |3764.5659375           |0.0                      |0.0                      |0.0                        |0.0                        |NULL                            |NULL                            |0.0                      |0.0                      |0.0                        |0           |0.0                 |0                     |0.0                 |0               |0.0                 |96                        |0                            |1.0                          |0.0                             |\n|426187    |2409265   |Revolving loans   |263121.345          |0.0                 |64544.498999999996  |98069.39310162586      |4840837.425         |270000               |45000                |183600.0             |0.3515495588235294           |0.9745234999999999         |215676.0                    |0.0                         |6999.5646                   |524967.345                  |215676.0                          |524767.5                          |247361.265                   |0.0                          |61717.5174                   |4840831.8              |64544.424              |315000.0                 |0.0                      |0.0                        |315000.0                   |1.0                             |0.0                             |0.06666666666666667      |0.0                      |0.06666666666666667        |0           |0.0                 |0                     |0.0                 |0               |0.0                 |75                        |0                            |1.0                          |0.0                             |\n|231601    |2356266   |Revolving loans   |95296.86            |10318.365           |78040.86709090909   |15712.921830055682     |4292247.6899999995  |90000                |90000                |90000.0              |0.8671207454545453           |1.058854                   |87750.0                     |3540.015                    |8221.636636363637           |452190.015                  |87750.0                           |452190.015                        |89282.475                    |9886.725                     |74937.13936363636            |4292247.6899999995     |78040.86709090909      |172800.0                 |189052.11                |0.0                        |361852.11                  |0.4775431598284725              |0.5224568401715275              |0.38181818181818183      |0.8545454545454545       |1.2363636363636363         |0           |0.0                 |0                     |0.0                 |0               |0.0                 |55                        |0                            |1.0                          |0.0                             |\n|312761    |2310162   |Revolving loans   |90927.405           |0.0                 |22672.78795774648   |29820.474028098255     |1609767.945         |90000                |90000                |90000.0              |0.2519198661971831           |1.0103045                  |11565.0                     |1529.505                    |3140.6051408450708          |222982.96500000003          |11565.0                           |164565.0                          |85500.0                      |0.0                          |21631.056971830985           |1607941.665            |22647.06570422535      |90000.0                  |0.0                      |0.0                        |90000.0                    |1.0                             |0.0                             |0.028169014084507043     |0.0                      |0.028169014084507043       |0           |0.0                 |0                     |0.0                 |0               |0.0                 |71                        |0                            |1.0                          |0.0                             |\n|159126    |1973622   |Revolving loans   |113396.535          |0.0                 |12311.003437500001  |30472.080608019678     |1181856.33          |112500               |0                    |35156.25             |0.35017965333333334          |1.0079692                  |18000.0                     |146.295                     |1959.5854687499993          |188120.20499999993          |18000.0                           |176490.0                          |106785.54                    |0.0                          |11798.81484375               |1180613.0699999998     |12298.052812499998     |16200.0                  |0.0                      |0.0                        |16200.0                    |1.0                             |0.0                             |0.052083333333333336     |0.0                      |0.052083333333333336       |0           |0.0                 |0                     |0.0                 |0               |0.0                 |96                        |0                            |1.0                          |0.0                             |\n|413006    |2820591   |Revolving loans   |87936.57            |0.0                 |25084.22662921348   |32434.46204588144      |2232496.17          |90000                |0                    |76853.93258426966    |0.3263883289473684           |0.9770730000000001         |40725.0                     |0.0                         |3430.4349438202244          |305308.70999999996          |40725.0                           |220725.0                          |83371.995                    |0.0                          |23941.58207865168            |2218680.9899999998     |24928.999887640446     |117450.0                 |0.0                      |0.0                        |117450.0                   |1.0                             |0.0                             |0.06818181818181818      |0.0                      |0.06741573033707865        |0           |0.0                 |0                     |0.0                 |0               |0.0                 |89                        |0                            |1.0                          |0.0                             |\n+----------+----------+------------------+--------------------+--------------------+--------------------+-----------------------+--------------------+---------------------+---------------------+---------------------+-----------------------------+---------------------------+----------------------------+----------------------------+----------------------------+----------------------------+----------------------------------+----------------------------------+-----------------------------+-----------------------------+-----------------------------+-----------------------+-----------------------+-------------------------+-------------------------+---------------------------+---------------------------+--------------------------------+--------------------------------+-------------------------+-------------------------+---------------------------+------------+--------------------+----------------------+--------------------+----------------+--------------------+--------------------------+-----------------------------+-----------------------------+--------------------------------+\nonly showing top 20 rows\n\n"
     ]
    }
   ],
   "source": [
    "\n",
    "from pyspark.sql import functions as F\n",
    "\n",
    "# Aggregating features for credit_card_balance_reduced\n",
    "credit_card_features = credit_card_balance_reduced.groupBy(\"SK_ID_CURR\", \"SK_ID_PREV\", \"NAME_CONTRACT_TYPE\").agg(\n",
    "    # Amount-Financed Features\n",
    "    F.max(\"AMT_BALANCE\").alias(\"amtf_amt_balance_max\"),  # Max balance\n",
    "    F.min(\"AMT_BALANCE\").alias(\"amtf_amt_balance_min\"),  # Min balance\n",
    "    F.avg(\"AMT_BALANCE\").alias(\"amtf_amt_balance_avg\"),  # Avg balance\n",
    "    F.stddev(\"AMT_BALANCE\").alias(\"amtf_amt_balance_stddev\"),  # Stddev of balance\n",
    "    F.sum(\"AMT_BALANCE\").alias(\"amtf_amt_balance_sum\"),  # Total balance\n",
    "\n",
    "    F.max(\"AMT_CREDIT_LIMIT_ACTUAL\").alias(\"amtf_credit_limit_max\"),  # Max credit limit\n",
    "    F.min(\"AMT_CREDIT_LIMIT_ACTUAL\").alias(\"amtf_credit_limit_min\"),  # Min credit limit\n",
    "    F.avg(\"AMT_CREDIT_LIMIT_ACTUAL\").alias(\"amtf_credit_limit_avg\"),  # Avg credit limit\n",
    "    (F.sum(\"AMT_BALANCE\") / F.sum(\"AMT_CREDIT_LIMIT_ACTUAL\")).alias(\"amtf_credit_utilization_ratio\"),  # Avg credit utilization\n",
    "    (F.max(\"AMT_BALANCE\") / F.max(\"AMT_CREDIT_LIMIT_ACTUAL\")).alias(\"amtf_credit_utilization_max\"),  # Max credit utilization\n",
    "\n",
    "    # Payment Features\n",
    "    F.max(\"AMT_PAYMENT_CURRENT\").alias(\"amtf_amt_payment_current_max\"),  # Max payment\n",
    "    F.min(\"AMT_PAYMENT_CURRENT\").alias(\"amtf_amt_payment_current_min\"),  # Min payment\n",
    "    F.avg(\"AMT_PAYMENT_CURRENT\").alias(\"amtf_amt_payment_current_avg\"),  # Avg payment\n",
    "    F.sum(\"AMT_PAYMENT_CURRENT\").alias(\"amtf_amt_payment_current_sum\"),  # Total payment\n",
    "    F.max(\"AMT_PAYMENT_TOTAL_CURRENT\").alias(\"amtf_amt_payment_total_current_max\"),  # Max total payments\n",
    "    F.sum(\"AMT_PAYMENT_TOTAL_CURRENT\").alias(\"amtf_amt_payment_total_current_sum\"),  # Total of all payments\n",
    "\n",
    "    # Receivable Features\n",
    "    F.max(\"AMT_RECEIVABLE_PRINCIPAL\").alias(\"amtf_receivable_principal_max\"),  # Max principal receivable\n",
    "    F.min(\"AMT_RECEIVABLE_PRINCIPAL\").alias(\"amtf_receivable_principal_min\"),  # Min principal receivable\n",
    "    F.avg(\"AMT_RECEIVABLE_PRINCIPAL\").alias(\"amtf_receivable_principal_avg\"),  # Avg principal receivable\n",
    "    F.sum(\"AMT_RECIVABLE\").alias(\"amtf_amt_receivable_sum\"),  # Total receivable amount\n",
    "    F.avg(\"AMT_RECIVABLE\").alias(\"amtf_amt_receivable_avg\"),  # Avg receivable amount\n",
    "\n",
    "    # Drawing Features\n",
    "    F.sum(\"AMT_DRAWINGS_ATM_CURRENT\").alias(\"amtf_amt_drawings_atm_sum\"),  # Total ATM drawings\n",
    "    F.sum(\"AMT_DRAWINGS_POS_CURRENT\").alias(\"amtf_amt_drawings_pos_sum\"),  # Total POS drawings\n",
    "    F.sum(\"AMT_DRAWINGS_OTHER_CURRENT\").alias(\"amtf_amt_drawings_other_sum\"),  # Total other drawings\n",
    "    F.sum(\"AMT_DRAWINGS_CURRENT\").alias(\"amtf_amt_drawings_total_sum\"),  # Total drawings\n",
    "    (F.sum(\"AMT_DRAWINGS_ATM_CURRENT\") / F.sum(\"AMT_DRAWINGS_CURRENT\")).alias(\"amtf_atm_to_total_drawings_ratio\"),  # ATM-to-total ratio\n",
    "    (F.sum(\"AMT_DRAWINGS_POS_CURRENT\") / F.sum(\"AMT_DRAWINGS_CURRENT\")).alias(\"amtf_pos_to_total_drawings_ratio\"),  # POS-to-total ratio\n",
    "\n",
    "    # Drawing Counts\n",
    "    F.avg(\"CNT_DRAWINGS_ATM_CURRENT\").alias(\"amtf_cnt_drawings_atm_avg\"),  # Avg ATM withdrawals\n",
    "    F.avg(\"CNT_DRAWINGS_POS_CURRENT\").alias(\"amtf_cnt_drawings_pos_avg\"),  # Avg POS transactions\n",
    "    F.avg(\"CNT_DRAWINGS_CURRENT\").alias(\"amtf_cnt_drawings_total_avg\"),  # Avg total withdrawals\n",
    "\n",
    "    # DPD Features\n",
    "    F.max(\"SK_DPD\").alias(\"amtf_dpd_max\"),  # Max days past due\n",
    "    F.avg(\"SK_DPD\").alias(\"amtf_dpd_avg\"),  # Avg days past due\n",
    "    F.sum(F.when(F.col(\"SK_DPD\") > 0, 1).otherwise(0)).alias(\"amtf_dpd_overdue_count\"),  # Count of overdue records\n",
    "    (F.sum(F.when(F.col(\"SK_DPD\") > 0, 1).otherwise(0)) / F.count(\"*\")).alias(\"amtf_dpd_proportion\"),  # Proportion of overdue records\n",
    "    F.max(\"SK_DPD_DEF\").alias(\"amtf_dpd_def_max\"),  # Max DPD with deferrals\n",
    "    F.avg(\"SK_DPD_DEF\").alias(\"amtf_dpd_def_avg\"),  # Avg DPD with deferrals\n",
    "\n",
    "    # Contract Status Features\n",
    "    F.sum(F.when(F.col(\"NAME_CONTRACT_STATUS\") == \"Active\", 1).otherwise(0)).alias(\"amtf_active_contract_count\"),  # Count Active contracts\n",
    "    F.sum(F.when(F.col(\"NAME_CONTRACT_STATUS\") == \"Completed\", 1).otherwise(0)).alias(\"amtf_completed_contract_count\"),  # Count Completed contracts\n",
    "    (F.sum(F.when(F.col(\"NAME_CONTRACT_STATUS\") == \"Active\", 1).otherwise(0)) / F.count(\"*\")).alias(\"amtf_active_status_proportion\"),  # Active proportion\n",
    "    (F.sum(F.when(F.col(\"NAME_CONTRACT_STATUS\") == \"Completed\", 1).otherwise(0)) / F.count(\"*\")).alias(\"amtf_completed_status_proportion\")  # Completed proportion\n",
    ")\n",
    "\n",
    "# Joining with NAME_CONTRACT_TYPE\n",
    "credit_card_features_final = credit_card_balance_reduced.select(\"SK_ID_CURR\", \"SK_ID_PREV\", \"NAME_CONTRACT_TYPE\").distinct() \\\n",
    "    .join(credit_card_features, on=[\"SK_ID_CURR\", \"SK_ID_PREV\", \"NAME_CONTRACT_TYPE\"], how=\"inner\")\n",
    "\n",
    "# Show the final DataFrame\n",
    "credit_card_features_final.show(truncate=False)\n",
    "\n"
   ]
  },
  {
   "cell_type": "code",
   "execution_count": 0,
   "metadata": {
    "application/vnd.databricks.v1+cell": {
     "cellMetadata": {
      "byteLimit": 2048000,
      "rowLimit": 10000
     },
     "inputWidgets": {},
     "nuid": "163e1b41-6a96-4976-b90d-262fd22f7dde",
     "showTitle": false,
     "tableResultSettingsMap": {},
     "title": ""
    }
   },
   "outputs": [
    {
     "output_type": "execute_result",
     "data": {
      "text/plain": [
       "87452"
      ]
     },
     "execution_count": 41,
     "metadata": {},
     "output_type": "execute_result"
    }
   ],
   "source": [
    "credit_card_balance_reduced.select(\"SK_ID_CURR\", \"SK_ID_PREV\").distinct().count()"
   ]
  },
  {
   "cell_type": "code",
   "execution_count": 0,
   "metadata": {
    "application/vnd.databricks.v1+cell": {
     "cellMetadata": {
      "byteLimit": 2048000,
      "rowLimit": 10000
     },
     "inputWidgets": {},
     "nuid": "16b1f340-fe65-4999-a3fb-a36877528456",
     "showTitle": false,
     "tableResultSettingsMap": {},
     "title": ""
    }
   },
   "outputs": [
    {
     "output_type": "execute_result",
     "data": {
      "text/plain": [
       "87452"
      ]
     },
     "execution_count": 42,
     "metadata": {},
     "output_type": "execute_result"
    }
   ],
   "source": [
    "credit_card_features_final.count()"
   ]
  },
  {
   "cell_type": "code",
   "execution_count": 0,
   "metadata": {
    "application/vnd.databricks.v1+cell": {
     "cellMetadata": {
      "byteLimit": 2048000,
      "rowLimit": 10000
     },
     "inputWidgets": {},
     "nuid": "a0db7a68-d7bf-4031-8c36-30aff7d77274",
     "showTitle": false,
     "tableResultSettingsMap": {},
     "title": ""
    }
   },
   "outputs": [
    {
     "output_type": "stream",
     "name": "stdout",
     "output_type": "stream",
     "text": [
      "+----------+----------+----------------------+---------------------+---------------+------------------+--------------+-----------+------------------+\n|SK_ID_PREV|SK_ID_CURR|NUM_INSTALMENT_VERSION|NUM_INSTALMENT_NUMBER|DAYS_INSTALMENT|DAYS_ENTRY_PAYMENT|AMT_INSTALMENT|AMT_PAYMENT|NAME_CONTRACT_TYPE|\n+----------+----------+----------------------+---------------------+---------------+------------------+--------------+-----------+------------------+\n|   1000004|    260094|                   1.0|                    6|         -712.0|            -752.0|       3391.11|    3391.11|        Cash loans|\n|   1000004|    260094|                   2.0|                    7|         -682.0|            -695.0|     13176.495|  13176.495|        Cash loans|\n|   1000004|    260094|                   1.0|                    5|         -742.0|            -752.0|       3391.11|    3391.11|        Cash loans|\n|   1000004|    260094|                   1.0|                    2|         -832.0|            -851.0|       3391.11|    3391.11|        Cash loans|\n|   1000004|    260094|                   1.0|                    3|         -802.0|            -830.0|       3391.11|    3391.11|        Cash loans|\n|   1000004|    260094|                   1.0|                    4|         -772.0|            -830.0|       3391.11|    3391.11|        Cash loans|\n|   1000004|    260094|                   1.0|                    1|         -862.0|            -881.0|       3391.11|    3391.11|        Cash loans|\n|   1000016|    157990|                   2.0|                    6|         -535.0|            -535.0|     37878.525|  37878.525|        Cash loans|\n|   1000016|    157990|                   1.0|                    5|         -565.0|            -610.0|       6078.15|    6078.15|        Cash loans|\n|   1000016|    157990|                   1.0|                    1|         -685.0|            -708.0|       6078.15|    6078.15|        Cash loans|\n|   1000016|    157990|                   1.0|                    3|         -625.0|            -654.0|       6078.15|    6078.15|        Cash loans|\n|   1000016|    157990|                   1.0|                    4|         -595.0|            -624.0|       6078.15|    6078.15|        Cash loans|\n|   1000016|    157990|                   1.0|                    2|         -655.0|            -684.0|       6078.15|    6078.15|        Cash loans|\n|   1000018|    394447|                   0.0|                    7|         -101.0|            -101.0|        1350.0|     1350.0|   Revolving loans|\n|   1000018|    394447|                   0.0|                   14|          -33.0|             -33.0|      1220.535|   1220.535|   Revolving loans|\n|   1000018|    394447|                   0.0|                    5|         -125.0|            -125.0|        750.87|     750.87|   Revolving loans|\n|   1000018|    394447|                   0.0|                   12|          -38.0|             -39.0|       6206.67|    6206.67|   Revolving loans|\n|   1000018|    394447|                   0.0|                   10|          -69.0|             -69.0|        886.23|     886.23|   Revolving loans|\n|   1000018|    394447|                   0.0|                    3|         -130.0|            -132.0|        2250.0|     2250.0|   Revolving loans|\n|   1000018|    394447|                   0.0|                   15|           -7.0|              -7.0|       6938.37|    6938.37|   Revolving loans|\n+----------+----------+----------------------+---------------------+---------------+------------------+--------------+-----------+------------------+\nonly showing top 20 rows\n\n"
     ]
    }
   ],
   "source": [
    "installments_payments_reduced.show()"
   ]
  },
  {
   "cell_type": "code",
   "execution_count": 0,
   "metadata": {
    "application/vnd.databricks.v1+cell": {
     "cellMetadata": {
      "byteLimit": 2048000,
      "rowLimit": 10000
     },
     "inputWidgets": {},
     "nuid": "5a7d7a42-e4fe-4fd5-875d-25533a5059ed",
     "showTitle": false,
     "tableResultSettingsMap": {},
     "title": ""
    }
   },
   "outputs": [
    {
     "output_type": "stream",
     "name": "stdout",
     "output_type": "stream",
     "text": [
      "+----------+----------+------------------+-------------------------+-----------------------+-----------------------+-----------------------+----------------------+--------------------+--------------------+--------------------+-----------------------+--------------------------------+-----------------------+------------------+------------------+------------------+------------------------+-------------------+-------------------+-------------------+------------------------------+---------------------------+-------------------------------+--------------------------------+-----------------------+------------------------------+-------------------------+-------------------------+-------------------------+-----------------------------+----------------------------------+---------------------+--------------------------+----------------------------+-----------------------------+\n|SK_ID_CURR|SK_ID_PREV|NAME_CONTRACT_TYPE|amtf_amt_instalment_total|amtf_amt_instalment_avg|amtf_amt_instalment_max|amtf_amt_instalment_min|amtf_amt_payment_total|amtf_amt_payment_avg|amtf_amt_payment_max|amtf_amt_payment_min|amtf_amt_payment_stddev|amtf_payment_to_instalment_ratio|amtf_late_payment_count|amtf_avg_days_late|amtf_max_days_late|amtf_min_days_late|amtf_early_payment_count|amtf_avg_days_early|amtf_max_days_early|amtf_min_days_early|amtf_days_entry_payment_stddev|amtf_distinct_version_count|amtf_distinct_installment_count|amtf_exact_or_over_payment_count|amtf_underpayment_count|amtf_underpayment_amount_total|amtf_days_installment_max|amtf_days_installment_min|amtf_days_installment_avg|amtf_cash_loans_total_payment|amtf_revolving_loans_total_payment|amtf_cash_loans_count|amtf_revolving_loans_count|amtf_late_payment_proportion|amtf_early_payment_proportion|\n+----------+----------+------------------+-------------------------+-----------------------+-----------------------+-----------------------+----------------------+--------------------+--------------------+--------------------+-----------------------+--------------------------------+-----------------------+------------------+------------------+------------------+------------------------+-------------------+-------------------+-------------------+------------------------------+---------------------------+-------------------------------+--------------------------------+-----------------------+------------------------------+-------------------------+-------------------------+-------------------------+-----------------------------+----------------------------------+---------------------+--------------------------+----------------------------+-----------------------------+\n|100002    |1038818   |Cash loans        |219625.69499999995       |11559.247105263155     |53093.745              |9251.775               |219625.69499999995    |11559.247105263155  |53093.745           |9251.775            |10058.037721881154     |1.0                             |0                      |NULL              |NULL              |NULL              |19                      |-315.42105263157896|-49.0              |-587.0             |172.058877451707              |2                          |19                             |19                              |0                      |0.0                           |-25.0                    |-565.0                   |-295.0                   |NULL                         |0.0                               |19                   |0                         |0.0                         |1.0                          |\n|100006    |2078043   |Cash loans        |691786.89                |691786.89              |691786.89              |691786.89              |691786.89             |691786.89           |691786.89           |691786.89           |NULL                   |1.0                             |0                      |NULL              |NULL              |NULL              |1                       |-174.0             |-174.0             |-174.0             |NULL                          |1                          |1                              |1                               |0                      |0.0                           |-151.0                   |-151.0                   |-151.0                   |NULL                         |0.0                               |1                    |0                         |0.0                         |1.0                          |\n|100006    |2190416   |Cash loans        |290275.19999999995       |29027.519999999997     |29027.52               |29027.52               |290275.19999999995    |29027.519999999997  |29027.52            |29027.52            |0.0                    |1.0                             |0                      |NULL              |NULL              |NULL              |10                      |-150.5             |-12.0              |-285.0             |92.48333183156123             |1                          |10                             |10                              |0                      |0.0                           |-11.0                    |-281.0                   |-146.0                   |NULL                         |0.0                               |10                   |0                         |0.0                         |1.0                          |\n|100006    |2299329   |Cash loans        |25091.324999999997       |5018.264999999999      |15159.645              |2482.92                |25091.324999999997    |5018.264999999999   |15159.645           |2482.92             |5669.203766414204      |1.0                             |0                      |NULL              |NULL              |NULL              |5                       |-533.4             |-438.0             |-575.0             |55.855169859199265            |2                          |5                              |5                               |0                      |0.0                           |-425.0                   |-545.0                   |-485.0                   |NULL                         |0.0                               |5                    |0                         |0.0                         |1.0                          |\n|100008    |1907290   |Cash loans        |133270.87500000003       |12115.534090909094     |12144.285              |11986.155              |121284.72000000002    |11025.883636363638  |12144.285           |227.16              |3583.3961396656177     |0.9100617070308872              |0                      |NULL              |NULL              |NULL              |11                      |-2038.3636363636363|-712.0             |-2309.0            |447.8670054217597             |1                          |10                             |9                               |2                      |11986.155                     |-2029.0                  |-2299.0                  |-2151.7272727272725      |NULL                         |0.0                               |11                   |0                         |0.0                         |1.1                          |\n|100009    |2007057   |Cash loans        |45003.24                 |7500.54                |7500.735               |7499.565               |45003.24              |7500.54             |7500.735            |7499.565            |0.47765049984277913    |1.0                             |0                      |NULL              |NULL              |NULL              |6                       |-210.16666666666666|-134.0             |-285.0             |56.721835889423275            |1                          |6                              |6                               |0                      |0.0                           |-127.0                   |-277.0                   |-202.0                   |NULL                         |0.0                               |6                    |0                         |0.0                         |1.0                          |\n|100009    |2421381   |Cash loans        |44600.625                |7433.4375              |7435.845               |7421.4                 |44600.625             |7433.4375           |7435.845            |7421.4              |5.897146555750932      |1.0                             |0                      |NULL              |NULL              |NULL              |6                       |-732.0             |-666.0             |-804.0             |54.18117754349752             |1                          |6                              |6                               |0                      |0.0                           |-645.0                   |-795.0                   |-720.0                   |NULL                         |0.0                               |6                    |0                         |0.0                         |1.0                          |\n|100009    |2797899   |Cash loans        |10418.67                 |10418.67               |10418.67               |10418.67               |10418.67              |10418.67            |10418.67            |10418.67            |NULL                   |1.0                             |0                      |NULL              |NULL              |NULL              |1                       |-58.0              |-58.0              |-58.0              |NULL                          |1                          |1                              |1                               |0                      |0.0                           |-43.0                    |-43.0                    |-43.0                    |NULL                         |0.0                               |1                    |0                         |0.0                         |1.0                          |\n|100012    |2164190   |Cash loans        |275976.09                |11499.003750000002     |21391.785              |11057.535              |264918.55500000005    |11038.273125000002  |21391.785           |883.485             |3029.6629044394604     |0.9599329963693595              |0                      |NULL              |NULL              |NULL              |24                      |-491.3333333333333 |-151.0             |-832.0             |223.10996833627692            |3                          |23                             |22                              |2                      |11057.535                     |-142.0                   |-802.0                   |-459.5                   |NULL                         |0.0                               |24                   |0                         |0.0                         |1.0434782608695652           |\n|100016    |1515914   |Cash loans        |72427.95                 |6035.662499999999      |6042.915               |5955.885               |72427.95              |6035.662499999999   |6042.915            |5955.885            |25.12339696378676      |1.0                             |0                      |NULL              |NULL              |NULL              |12                      |-2176.25           |-2009.0            |-2339.0            |107.03790747377138            |1                          |12                             |12                              |0                      |0.0                           |-2009.0                  |-2339.0                  |-2174.0                  |NULL                         |0.0                               |12                   |0                         |0.0                         |1.0                          |\n|100018    |1251951   |Cash loans        |20901.824999999997       |4180.365               |4180.365               |4180.365               |20901.824999999997    |4180.365            |4180.365            |4180.365            |0.0                    |1.0                             |0                      |NULL              |NULL              |NULL              |5                       |-103.8             |-40.0              |-170.0             |52.3851123889221              |1                          |5                              |5                               |0                      |0.0                           |-29.0                    |-149.0                   |-89.0                    |NULL                         |0.0                               |5                    |0                         |0.0                         |1.0                          |\n|100020    |1294812   |Cash loans        |52675.60500000001        |8779.267500000002      |8779.77                |8776.755               |52675.60500000001     |8779.267500000002   |8779.77             |8776.755            |1.2308685957489183     |1.0                             |0                      |NULL              |NULL              |NULL              |6                       |-373.0             |-308.0             |-448.0             |54.68089245796927             |1                          |6                              |6                               |0                      |0.0                           |-291.0                   |-441.0                   |-366.0                   |NULL                         |0.0                               |6                    |0                         |0.0                         |1.0                          |\n|100021    |1973524   |Cash loans        |16253.010000000002       |2708.8350000000005     |2709.45                |2705.76                |16253.010000000002    |2708.8350000000005  |2709.45             |2705.76             |1.5064361918115616     |1.0                             |0                      |NULL              |NULL              |NULL              |6                       |-2694.0            |-2609.0            |-2776.0            |70.07710039663459             |1                          |6                              |6                               |0                      |0.0                           |-2622.0                  |-2772.0                  |-2697.0                  |NULL                         |0.0                               |6                    |0                         |0.0                         |1.0                          |\n|100021    |2425547   |Cash loans        |103479.25500000002       |17246.542500000003     |52236.18               |10248.615              |103479.25500000002    |17246.542500000003  |52236.18            |10248.615           |17141.35163199033      |1.0                             |0                      |NULL              |NULL              |NULL              |6                       |-758.1666666666666 |-669.0             |-826.0             |53.80489444898732             |2                          |6                              |6                               |0                      |0.0                           |-669.0                   |-819.0                   |-744.0                   |NULL                         |0.0                               |6                    |0                         |0.0                         |1.0                          |\n|100022    |1319299   |Cash loans        |47361.825                |6765.974999999999      |6765.975               |6765.975               |47361.825             |6765.974999999999   |6765.975            |6765.975            |0.0                    |1.0                             |0                      |NULL              |NULL              |NULL              |7                       |-142.42857142857142|-51.0              |-231.0             |64.99194089233204             |1                          |7                              |7                               |0                      |0.0                           |-29.0                    |-209.0                   |-119.0                   |NULL                         |0.0                               |7                    |0                         |0.0                         |1.0                          |\n|100023    |2411919   |Cash loans        |126657.9                 |9046.992857142857      |22761.9                |7992.0                 |126657.9              |9046.992857142857   |22761.9             |7992.0              |3947.4218169223177     |1.0                             |0                      |NULL              |NULL              |NULL              |14                      |-1643.2142857142858|-1432.0            |-1831.0            |121.88719789620654            |2                          |14                             |14                              |0                      |0.0                           |-1429.0                  |-1819.0                  |-1624.0                  |NULL                         |0.0                               |14                   |0                         |0.0                         |1.0                          |\n|100025    |1189316   |Cash loans        |619726.0499999999        |23835.617307692304     |23860.125              |23833.575              |429030.9              |16501.188461538462  |23857.2             |2.925               |11216.663411773197     |0.6922912148037025              |0                      |NULL              |NULL              |NULL              |26                      |-1390.8461538461538|-1152.0            |-1699.0            |152.01491829624945            |1                          |18                             |10                              |16                     |190695.14999999997            |-1159.0                  |-1669.0                  |-1382.8461538461538      |NULL                         |0.0                               |26                   |0                         |0.0                         |1.4444444444444444           |\n|100030    |1143325   |Cash loans        |16934.985                |16934.985              |16934.985              |16934.985              |16934.985             |16934.985           |16934.985           |16934.985           |NULL                   |1.0                             |0                      |NULL              |NULL              |NULL              |1                       |-2818.0            |-2818.0            |-2818.0            |NULL                          |1                          |1                              |1                               |0                      |0.0                           |-2818.0                  |-2818.0                  |-2818.0                  |NULL                         |0.0                               |1                    |0                         |0.0                         |1.0                          |\n|100034    |1390369   |Cash loans        |127042.605               |21173.767499999998     |36069.57               |13888.98               |185542.60500000004    |30923.767500000005  |58500.0             |13888.98            |21944.640745061595     |1.460475444438502               |0                      |NULL              |NULL              |NULL              |6                       |-527.1666666666666 |-455.0             |-584.0             |52.79172915018665             |4                          |5                              |6                               |0                      |0.0                           |-449.0                   |-569.0                   |-519.0                   |NULL                         |0.0                               |6                    |0                         |0.0                         |1.2                          |\n|100035    |1905091   |Cash loans        |271842.48                |90614.15999999999      |238203.0               |16819.74               |271842.48             |90614.15999999999   |238203.0            |16819.74            |127815.68475507692     |1.0                             |0                      |NULL              |NULL              |NULL              |3                       |-673.3333333333334 |-651.0             |-698.0             |23.58671942711265             |2                          |3                              |3                               |0                      |0.0                           |-633.0                   |-693.0                   |-663.0                   |NULL                         |0.0                               |3                    |0                         |0.0                         |1.0                          |\n+----------+----------+------------------+-------------------------+-----------------------+-----------------------+-----------------------+----------------------+--------------------+--------------------+--------------------+-----------------------+--------------------------------+-----------------------+------------------+------------------+------------------+------------------------+-------------------+-------------------+-------------------+------------------------------+---------------------------+-------------------------------+--------------------------------+-----------------------+------------------------------+-------------------------+-------------------------+-------------------------+-----------------------------+----------------------------------+---------------------+--------------------------+----------------------------+-----------------------------+\nonly showing top 20 rows\n\n"
     ]
    }
   ],
   "source": [
    "# Aggregate features for installments_payments_reduced\n",
    "installments_features = installments_payments_reduced.groupBy(\"SK_ID_CURR\", \"SK_ID_PREV\", \"NAME_CONTRACT_TYPE\").agg(\n",
    "    # Amount-Financed Features\n",
    "    F.sum(\"AMT_INSTALMENT\").alias(\"amtf_amt_instalment_total\"),                # Total amount due\n",
    "    F.avg(\"AMT_INSTALMENT\").alias(\"amtf_amt_instalment_avg\"),                  # Average amount due\n",
    "    F.max(\"AMT_INSTALMENT\").alias(\"amtf_amt_instalment_max\"),                  # Max amount due\n",
    "    F.min(\"AMT_INSTALMENT\").alias(\"amtf_amt_instalment_min\"),                  # Min amount due\n",
    "    F.sum(\"AMT_PAYMENT\").alias(\"amtf_amt_payment_total\"),                      # Total amount paid\n",
    "    F.avg(\"AMT_PAYMENT\").alias(\"amtf_amt_payment_avg\"),                        # Average amount paid\n",
    "    F.max(\"AMT_PAYMENT\").alias(\"amtf_amt_payment_max\"),                        # Max amount paid\n",
    "    F.min(\"AMT_PAYMENT\").alias(\"amtf_amt_payment_min\"),                        # Min amount paid\n",
    "    F.stddev(\"AMT_PAYMENT\").alias(\"amtf_amt_payment_stddev\"),                  # Stddev of payment amounts\n",
    "    (F.sum(\"AMT_PAYMENT\") / F.sum(\"AMT_INSTALMENT\")).alias(\"amtf_payment_to_instalment_ratio\"),  # Payment-to-installment ratio\n",
    "\n",
    "    # Timing Features\n",
    "    F.sum(F.when(F.col(\"DAYS_ENTRY_PAYMENT\") > 0, 1).otherwise(0)).alias(\"amtf_late_payment_count\"),  # Count of late payments\n",
    "    F.avg(F.when(F.col(\"DAYS_ENTRY_PAYMENT\") > 0, F.col(\"DAYS_ENTRY_PAYMENT\")).otherwise(None)).alias(\"amtf_avg_days_late\"),  # Avg days late\n",
    "    F.max(F.when(F.col(\"DAYS_ENTRY_PAYMENT\") > 0, F.col(\"DAYS_ENTRY_PAYMENT\")).otherwise(None)).alias(\"amtf_max_days_late\"),  # Max days late\n",
    "    F.min(F.when(F.col(\"DAYS_ENTRY_PAYMENT\") > 0, F.col(\"DAYS_ENTRY_PAYMENT\")).otherwise(None)).alias(\"amtf_min_days_late\"),  # Min days late\n",
    "    F.sum(F.when(F.col(\"DAYS_ENTRY_PAYMENT\") < 0, 1).otherwise(0)).alias(\"amtf_early_payment_count\"),  # Count of early payments\n",
    "    F.avg(F.when(F.col(\"DAYS_ENTRY_PAYMENT\") < 0, F.col(\"DAYS_ENTRY_PAYMENT\")).otherwise(None)).alias(\"amtf_avg_days_early\"),  # Avg days early\n",
    "    F.max(F.when(F.col(\"DAYS_ENTRY_PAYMENT\") < 0, F.col(\"DAYS_ENTRY_PAYMENT\")).otherwise(None)).alias(\"amtf_max_days_early\"),  # Max days early\n",
    "    F.min(F.when(F.col(\"DAYS_ENTRY_PAYMENT\") < 0, F.col(\"DAYS_ENTRY_PAYMENT\")).otherwise(None)).alias(\"amtf_min_days_early\"),  # Min days early\n",
    "    F.stddev(\"DAYS_ENTRY_PAYMENT\").alias(\"amtf_days_entry_payment_stddev\"),    # Stddev of payment timing\n",
    "\n",
    "    # Installment-Specific Features\n",
    "    F.countDistinct(\"NUM_INSTALMENT_VERSION\").alias(\"amtf_distinct_version_count\"),  # Distinct installment plan versions\n",
    "    F.countDistinct(\"NUM_INSTALMENT_NUMBER\").alias(\"amtf_distinct_installment_count\"),  # Distinct installment numbers\n",
    "    F.sum(F.when(F.col(\"AMT_PAYMENT\") >= F.col(\"AMT_INSTALMENT\"), 1).otherwise(0)).alias(\"amtf_exact_or_over_payment_count\"),  # Count of exact or overpayments\n",
    "    F.sum(F.when(F.col(\"AMT_PAYMENT\") < F.col(\"AMT_INSTALMENT\"), 1).otherwise(0)).alias(\"amtf_underpayment_count\"),  # Count of underpayments\n",
    "    F.sum(F.when(F.col(\"AMT_PAYMENT\") < F.col(\"AMT_INSTALMENT\"), F.col(\"AMT_INSTALMENT\") - F.col(\"AMT_PAYMENT\")).otherwise(0)).alias(\"amtf_underpayment_amount_total\"),  # Total underpayment amount\n",
    "\n",
    "    # Days-Installment Features\n",
    "    F.max(\"DAYS_INSTALMENT\").alias(\"amtf_days_installment_max\"),               # Latest installment due date\n",
    "    F.min(\"DAYS_INSTALMENT\").alias(\"amtf_days_installment_min\"),               # Earliest installment due date\n",
    "    F.avg(\"DAYS_INSTALMENT\").alias(\"amtf_days_installment_avg\"),               # Avg days installment due\n",
    "\n",
    "    # Loan Type-Specific Aggregates\n",
    "    F.sum(F.when(F.col(\"NAME_CONTRACT_TYPE\") == \"Cash loans\", \"AMT_PAYMENT\").otherwise(0)).alias(\"amtf_cash_loans_total_payment\"),  # Total payment for cash loans\n",
    "    F.sum(F.when(F.col(\"NAME_CONTRACT_TYPE\") == \"Revolving loans\", \"AMT_PAYMENT\").otherwise(0)).alias(\"amtf_revolving_loans_total_payment\"),  # Total payment for revolving loans\n",
    "    F.count(F.when(F.col(\"NAME_CONTRACT_TYPE\") == \"Cash loans\", 1).otherwise(None)).alias(\"amtf_cash_loans_count\"),  # Count for cash loans\n",
    "    F.count(F.when(F.col(\"NAME_CONTRACT_TYPE\") == \"Revolving loans\", 1).otherwise(None)).alias(\"amtf_revolving_loans_count\")  # Count for revolving loans\n",
    ")\n",
    "\n",
    "# Add additional features if necessary\n",
    "installments_features = installments_features.withColumn(\n",
    "    \"amtf_late_payment_proportion\",\n",
    "    F.col(\"amtf_late_payment_count\") / F.col(\"amtf_distinct_installment_count\")  # Proportion of late payments\n",
    ").withColumn(\n",
    "    \"amtf_early_payment_proportion\",\n",
    "    F.col(\"amtf_early_payment_count\") / F.col(\"amtf_distinct_installment_count\")  # Proportion of early payments\n",
    ")\n",
    "\n",
    "# Final DataFrame\n",
    "installments_features_final = installments_payments_reduced.select(\"SK_ID_CURR\", \"SK_ID_PREV\", \"NAME_CONTRACT_TYPE\").distinct() \\\n",
    "    .join(installments_features, on=[\"SK_ID_CURR\", \"SK_ID_PREV\", \"NAME_CONTRACT_TYPE\"], how=\"inner\")\n",
    "\n",
    "# Show the final result\n",
    "installments_features_final.show(truncate=False)\n"
   ]
  },
  {
   "cell_type": "code",
   "execution_count": 0,
   "metadata": {
    "application/vnd.databricks.v1+cell": {
     "cellMetadata": {
      "byteLimit": 2048000,
      "rowLimit": 10000
     },
     "inputWidgets": {},
     "nuid": "534d25db-ea9e-454e-87a2-35dbbfa48506",
     "showTitle": false,
     "tableResultSettingsMap": {},
     "title": ""
    }
   },
   "outputs": [
    {
     "output_type": "execute_result",
     "data": {
      "text/plain": [
       "853344"
      ]
     },
     "execution_count": 45,
     "metadata": {},
     "output_type": "execute_result"
    }
   ],
   "source": [
    "installments_payments_reduced.select(\"SK_ID_CURR\", \"SK_ID_PREV\").distinct().count()"
   ]
  },
  {
   "cell_type": "code",
   "execution_count": 0,
   "metadata": {
    "application/vnd.databricks.v1+cell": {
     "cellMetadata": {
      "byteLimit": 2048000,
      "rowLimit": 10000
     },
     "inputWidgets": {},
     "nuid": "4ed7b4ea-62a4-46a7-a840-7708b1db6ac0",
     "showTitle": false,
     "tableResultSettingsMap": {},
     "title": ""
    }
   },
   "outputs": [
    {
     "output_type": "execute_result",
     "data": {
      "text/plain": [
       "853066"
      ]
     },
     "execution_count": 46,
     "metadata": {},
     "output_type": "execute_result"
    }
   ],
   "source": [
    "installments_features_final.count()"
   ]
  },
  {
   "cell_type": "code",
   "execution_count": 0,
   "metadata": {
    "application/vnd.databricks.v1+cell": {
     "cellMetadata": {
      "byteLimit": 2048000,
      "rowLimit": 10000
     },
     "inputWidgets": {},
     "nuid": "e1e9d59d-6152-4a4c-81cd-5333f1e12f33",
     "showTitle": false,
     "tableResultSettingsMap": {},
     "title": ""
    }
   },
   "outputs": [],
   "source": [
    "# Perform full outer join for all three tables on SK_ID_CURR and SK_ID_PREV\n",
    "combined_features = pos_cash_features_final.alias(\"pos\") \\\n",
    "    .join(credit_card_features_final.alias(\"cc\"), [\"SK_ID_CURR\", \"SK_ID_PREV\"], \"full_outer\") \\\n",
    "    .join(installments_features_final.alias(\"inst\"), [\"SK_ID_CURR\", \"SK_ID_PREV\"], \"full_outer\")\n",
    "\n",
    "# Fill missing values (optional, based on requirements)\n",
    "combined_amtf_features = combined_features.fillna(0)  # Replace NaN with 0 for numeric columns\n",
    "\n",
    "# Show the combined result\n",
    "combined_amtf_features.show(truncate=False)\n",
    "\n",
    "# Count the number of rows and columns to verify completeness\n",
    "print(f\"Total Rows: {combined_amtf_features.count()}\")\n",
    "print(f\"Total Features (Columns): {len(combined_amtf_features.columns)}\")"
   ]
  }
 ],
 "metadata": {
  "application/vnd.databricks.v1+notebook": {
   "dashboards": [],
   "environmentMetadata": null,
   "language": "python",
   "notebookMetadata": {
    "mostRecentlyExecutedCommandWithImplicitDF": {
     "commandId": 502705260014915,
     "dataframes": [
      "_sqldf"
     ]
    },
    "pythonIndentUnit": 4
   },
   "notebookName": "amtf_feature_eng",
   "widgets": {}
  },
  "language_info": {
   "name": "python"
  }
 },
 "nbformat": 4,
 "nbformat_minor": 0
}