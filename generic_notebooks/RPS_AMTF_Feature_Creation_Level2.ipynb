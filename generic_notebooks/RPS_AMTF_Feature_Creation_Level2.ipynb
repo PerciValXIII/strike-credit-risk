{
 "cells": [
  {
   "cell_type": "code",
   "execution_count": 0,
   "metadata": {
    "application/vnd.databricks.v1+cell": {
     "cellMetadata": {
      "byteLimit": 2048000,
      "rowLimit": 10000
     },
     "inputWidgets": {},
     "nuid": "3d6a4625-1717-471e-a256-0b8714fd09b0",
     "showTitle": false,
     "tableResultSettingsMap": {},
     "title": ""
    }
   },
   "outputs": [],
   "source": [
    "from pyspark.sql import SparkSession\n",
    "from pyspark.sql import functions as F\n",
    "from pyspark.sql.functions import col\n",
    "from pyspark.sql.window import Window\n",
    "from pyspark.ml.feature import VectorAssembler, StandardScaler\n",
    "from pyspark.ml.classification import LogisticRegression, RandomForestClassifier, GBTClassifier\n",
    "from pyspark.ml.evaluation import BinaryClassificationEvaluator\n",
    "from pyspark.ml.tuning import ParamGridBuilder, CrossValidator\n",
    "# from xgboost import XGBClassifier\n",
    "from sklearn.metrics import accuracy_score, roc_auc_score, classification_report"
   ]
  },
  {
   "cell_type": "code",
   "execution_count": 0,
   "metadata": {
    "application/vnd.databricks.v1+cell": {
     "cellMetadata": {
      "byteLimit": 2048000,
      "rowLimit": 10000
     },
     "inputWidgets": {},
     "nuid": "c6f14b04-f6f4-479c-916f-9631ef4900e0",
     "showTitle": false,
     "tableResultSettingsMap": {},
     "title": ""
    }
   },
   "outputs": [],
   "source": [
    "application_train = spark.table(\"hive_metastore.default.application_train\")\n",
    "credit_card_balance = spark.table(\"hive_metastore.default.credit_card_balance\")\n",
    "pos_cash_balance = spark.table(\"hive_metastore.default.pos_cash_balance\")\n",
    "installments_payments = spark.table(\"hive_metastore.default.installments_payments\")\n",
    "\n",
    "application_train.createOrReplaceTempView(\"application_train_temp\")\n",
    "installments_payments.createOrReplaceTempView(\"installments_payments_temp\")\n",
    "pos_cash_balance.createOrReplaceTempView(\"pos_cash_balance_temp\")\n",
    "credit_card_balance.createOrReplaceTempView(\"credit_card_balance_temp\")\n",
    " "
   ]
  },
  {
   "cell_type": "code",
   "execution_count": 0,
   "metadata": {
    "application/vnd.databricks.v1+cell": {
     "cellMetadata": {
      "byteLimit": 2048000,
      "rowLimit": 10000
     },
     "inputWidgets": {},
     "nuid": "3a863cb3-5236-4e43-9825-8ad36a031e1e",
     "showTitle": false,
     "tableResultSettingsMap": {},
     "title": ""
    }
   },
   "outputs": [],
   "source": [
    "pos_cash_balance_reduced = pos_cash_balance.alias(\"a\") \\\n",
    "    .join(application_train.alias(\"b\"), on=\"SK_ID_CURR\", how=\"inner\") \\\n",
    "    .withColumn(\"NAME_CONTRACT_TYPE\", F.lit(\"Cash loans\")) \\\n",
    "    .select(\"a.*\", \"NAME_CONTRACT_TYPE\") "
   ]
  },
  {
   "cell_type": "code",
   "execution_count": 0,
   "metadata": {
    "application/vnd.databricks.v1+cell": {
     "cellMetadata": {
      "byteLimit": 2048000,
      "rowLimit": 10000
     },
     "inputWidgets": {},
     "nuid": "fc10bbe8-bcba-4381-a925-d3cba5d6017e",
     "showTitle": false,
     "tableResultSettingsMap": {},
     "title": ""
    }
   },
   "outputs": [],
   "source": [
    "if pos_cash_balance_reduced.count()<pos_cash_balance.count():\n",
    "    print(True)\n",
    "else:\n",
    "    print(False)"
   ]
  },
  {
   "cell_type": "code",
   "execution_count": 0,
   "metadata": {
    "application/vnd.databricks.v1+cell": {
     "cellMetadata": {
      "byteLimit": 2048000,
      "rowLimit": 10000
     },
     "inputWidgets": {},
     "nuid": "3559f351-4ad6-49d5-aaab-03986014b2f8",
     "showTitle": false,
     "tableResultSettingsMap": {},
     "title": ""
    }
   },
   "outputs": [],
   "source": [
    "credit_card_balance_reduced = credit_card_balance.alias(\"a\") \\\n",
    "    .join(application_train.alias(\"b\"), on=\"SK_ID_CURR\", how=\"inner\") \\\n",
    "    .withColumn(\"NAME_CONTRACT_TYPE\", F.lit(\"Revolving loans\")) \\\n",
    "    .select(\"a.*\", \"NAME_CONTRACT_TYPE\") "
   ]
  },
  {
   "cell_type": "code",
   "execution_count": 0,
   "metadata": {
    "application/vnd.databricks.v1+cell": {
     "cellMetadata": {
      "byteLimit": 2048000,
      "rowLimit": 10000
     },
     "inputWidgets": {},
     "nuid": "d4285d2a-f011-41a6-bbca-1012f29af23b",
     "showTitle": false,
     "tableResultSettingsMap": {},
     "title": ""
    }
   },
   "outputs": [],
   "source": [
    "if credit_card_balance_reduced.count()<credit_card_balance.count():\n",
    "    print(True)\n",
    "else:\n",
    "    print(False)"
   ]
  },
  {
   "cell_type": "code",
   "execution_count": 0,
   "metadata": {
    "application/vnd.databricks.v1+cell": {
     "cellMetadata": {
      "byteLimit": 2048000,
      "rowLimit": 10000
     },
     "inputWidgets": {},
     "nuid": "04d85c9b-a0a3-48f0-b752-5c25eeb880d7",
     "showTitle": false,
     "tableResultSettingsMap": {},
     "title": ""
    }
   },
   "outputs": [],
   "source": [
    "sql_query=\"\"\"\n",
    "Select distinct a.*, CASE \n",
    "        WHEN c.SK_ID_PREV IS NOT NULL AND c.SK_ID_CURR IS NOT NULL THEN 'Cash loans'\n",
    "        WHEN d.SK_ID_PREV IS NOT NULL AND d.SK_ID_CURR IS NOT NULL THEN 'Revolving loans'\n",
    "        ELSE NULL\n",
    "    END AS NAME_CONTRACT_TYPE \n",
    "     from (\n",
    "SELECT \n",
    "    a.* \n",
    "   \n",
    "FROM \n",
    "    installments_payments_temp a \n",
    "JOIN \n",
    "    application_train_temp b \n",
    "ON \n",
    "    a.SK_ID_CURR = b.SK_ID_CURR ) a\n",
    "LEFT JOIN \n",
    "    pos_cash_balance_temp c \n",
    "ON \n",
    "    a.SK_ID_PREV = c.SK_ID_PREV and a.SK_ID_CURR = c.SK_ID_CURR\n",
    "LEFT JOIN \n",
    "    credit_card_balance_temp d \n",
    "ON \n",
    "    a.SK_ID_PREV = d.SK_ID_PREV  and a.SK_ID_CURR = d.SK_ID_CURR\n",
    "\"\"\"\n",
    "installments_payments_reduced=spark.sql(sql_query)"
   ]
  },
  {
   "cell_type": "code",
   "execution_count": 0,
   "metadata": {
    "application/vnd.databricks.v1+cell": {
     "cellMetadata": {
      "byteLimit": 2048000,
      "rowLimit": 10000
     },
     "inputWidgets": {},
     "nuid": "bc0fdd7b-4380-489e-afcb-75a66267e8b6",
     "showTitle": false,
     "tableResultSettingsMap": {},
     "title": ""
    }
   },
   "outputs": [],
   "source": [
    "sql_query=\"\"\"\n",
    "Select a.SK_ID_CURR, d.SK_ID_CURR from\n",
    "    pos_cash_balance_temp a\n",
    "JOIN \n",
    "    credit_card_balance_temp d \n",
    "ON \n",
    "     a.SK_ID_CURR = d.SK_ID_CURR\n",
    "\"\"\"\n",
    "temp=spark.sql(sql_query)\n",
    "temp.show( 10)"
   ]
  },
  {
   "cell_type": "code",
   "execution_count": 0,
   "metadata": {
    "application/vnd.databricks.v1+cell": {
     "cellMetadata": {
      "byteLimit": 2048000,
      "rowLimit": 10000
     },
     "inputWidgets": {},
     "nuid": "99992e70-fa14-466e-a6b7-c26356089f09",
     "showTitle": false,
     "tableResultSettingsMap": {},
     "title": ""
    }
   },
   "outputs": [],
   "source": [
    "if installments_payments_reduced.count()<installments_payments.count():\n",
    "    print(True)\n",
    "else:\n",
    "    print(False,installments_payments.count(),installments_payments_reduced.count())"
   ]
  },
  {
   "cell_type": "code",
   "execution_count": 0,
   "metadata": {
    "application/vnd.databricks.v1+cell": {
     "cellMetadata": {
      "byteLimit": 2048000,
      "rowLimit": 10000
     },
     "inputWidgets": {},
     "nuid": "6ba47c06-89b1-4119-926d-36303169cbbc",
     "showTitle": false,
     "tableResultSettingsMap": {},
     "title": ""
    }
   },
   "outputs": [],
   "source": [
    "pos_cash_balance_reduced.show(10)\n",
    "                                      "
   ]
  },
  {
   "cell_type": "code",
   "execution_count": 0,
   "metadata": {
    "application/vnd.databricks.v1+cell": {
     "cellMetadata": {
      "byteLimit": 2048000,
      "rowLimit": 10000
     },
     "inputWidgets": {},
     "nuid": "1be719fc-0b94-4a7d-89e1-05f19f88299b",
     "showTitle": false,
     "tableResultSettingsMap": {},
     "title": ""
    }
   },
   "outputs": [],
   "source": [
    "pos_cash_features = pos_cash_balance_reduced.groupBy(\"SK_ID_CURR\", \"SK_ID_PREV\").agg(\n",
    "   F.max(\"MONTHS_BALANCE\").alias(\"amtf_months_balance_max\"),  # Most recent snapshot\n",
    "    F.min(\"MONTHS_BALANCE\").alias(\"amtf_months_balance_min\"),  # Earliest snapshot\n",
    "    F.avg(\"MONTHS_BALANCE\").alias(\"amtf_months_balance_avg\"),  # Average snapshot\n",
    "    F.stddev(\"MONTHS_BALANCE\").alias(\"amtf_months_balance_stddev\"),  # Stddev of snapshots\n",
    "    (F.max(\"MONTHS_BALANCE\") - F.min(\"MONTHS_BALANCE\") + 1).alias(\"amtf_loan_duration_months\"),  # Loan duration\n",
    "\n",
    "    # Installment Features\n",
    "    F.max(\"CNT_INSTALMENT\").alias(\"amtf_cnt_instalment_max\"),  # Max number of installments\n",
    "    F.min(\"CNT_INSTALMENT\").alias(\"amtf_cnt_instalment_min\"),  # Min number of installments\n",
    "    F.avg(\"CNT_INSTALMENT\").alias(\"amtf_cnt_instalment_avg\"),  # Avg number of installments\n",
    "    F.stddev(\"CNT_INSTALMENT\").alias(\"amtf_cnt_instalment_stddev\"),  # Stddev of installments\n",
    "    F.min(\"CNT_INSTALMENT_FUTURE\").alias(\"amtf_cnt_instalment_future_min\"),  # Min future installments\n",
    "    F.avg(\"CNT_INSTALMENT_FUTURE\").alias(\"amtf_cnt_instalment_future_avg\"),  # Avg future installments\n",
    "    F.max(\"CNT_INSTALMENT_FUTURE\").alias(\"amtf_cnt_instalment_future_max\"),  # Max future installments\n",
    "    F.stddev(\"CNT_INSTALMENT_FUTURE\").alias(\"amtf_cnt_instalment_future_stddev\"),  # Stddev of future installments\n",
    "    (F.sum(\"CNT_INSTALMENT\") - F.sum(\"CNT_INSTALMENT_FUTURE\")).alias(\"amtf_instalments_completed\"),  # Completed installments\n",
    "    (F.sum(\"CNT_INSTALMENT_FUTURE\") / F.sum(\"CNT_INSTALMENT\")).alias(\"amtf_future_installment_ratio\"),  # Remaining ratio\n",
    "\n",
    "    # Delinquency and Default Risk Features\n",
    "    F.max(\"SK_DPD\").alias(\"amtf_max_dpd\"),  # Max days past due\n",
    "    F.avg(\"SK_DPD\").alias(\"amtf_avg_dpd\"),  # Average days past due\n",
    "    F.stddev(\"SK_DPD\").alias(\"amtf_stddev_dpd\"),  # Stddev of days past due\n",
    "    F.sum(F.when(F.col(\"SK_DPD\") > 0, 1).otherwise(0)).alias(\"amtf_overdue_count\"),  # Count of overdue records\n",
    "    F.max(\"SK_DPD_DEF\").alias(\"amtf_max_dpd_def\"),  # Max days past due with deferrals\n",
    "    F.avg(\"SK_DPD_DEF\").alias(\"amtf_avg_dpd_def\"),  # Average days past due with deferrals\n",
    "    F.stddev(\"SK_DPD_DEF\").alias(\"amtf_stddev_dpd_def\"),  # Stddev of days past due with deferrals\n",
    "    F.sum(F.when(F.col(\"SK_DPD_DEF\") > 0, 1).otherwise(0)).alias(\"amtf_deferral_count\"),  # Count of deferrals\n",
    "    (F.sum(F.when(F.col(\"SK_DPD_DEF\") > 0, 1).otherwise(0)) / F.count(\"*\")).alias(\"amtf_deferral_proportion\"),  # Proportion of deferrals\n",
    "\n",
    "    # Contract Status Features\n",
    "    F.sum(F.when(F.col(\"NAME_CONTRACT_STATUS\") == \"Active\", 1).otherwise(0)).alias(\"amtf_active_status_count\"),  # Active status count\n",
    "    F.sum(F.when(F.col(\"NAME_CONTRACT_STATUS\") == \"Completed\", 1).otherwise(0)).alias(\"amtf_completed_status_count\"),  # Completed status count\n",
    "    F.sum(F.when(F.col(\"NAME_CONTRACT_STATUS\") == \"Approved\", 1).otherwise(0)).alias(\"amtf_approved_status_count\"),  # Approved status count\n",
    "    F.sum(F.when(F.col(\"NAME_CONTRACT_STATUS\") == \"Cancelled\", 1).otherwise(0)).alias(\"amtf_cancelled_status_count\"),  # Cancelled status count\n",
    "    F.sum(F.when(F.col(\"NAME_CONTRACT_STATUS\") == \"Demand\", 1).otherwise(0)).alias(\"amtf_demand_status_count\"),  # Demand status count\n",
    "\n",
    "    # Derived Ratios\n",
    "    (F.sum(F.when(F.col(\"NAME_CONTRACT_STATUS\") == \"Active\", 1).otherwise(0)) / F.count(\"*\")).alias(\"amtf_active_status_proportion\"),  # Active proportion\n",
    "    (F.sum(F.when(F.col(\"NAME_CONTRACT_STATUS\") == \"Completed\", 1).otherwise(0)) / F.count(\"*\")).alias(\"amtf_completed_status_proportion\"),  # Completed proportion\n",
    "\n",
    "    # Status Duration Features\n",
    "    F.sum(F.when(F.col(\"NAME_CONTRACT_STATUS\") == \"Active\", F.col(\"MONTHS_BALANCE\")).otherwise(0)).alias(\"amtf_active_status_duration\"),  # Active duration\n",
    "    F.sum(F.when(F.col(\"NAME_CONTRACT_STATUS\") == \"Completed\", F.col(\"MONTHS_BALANCE\")).otherwise(0)).alias(\"amtf_completed_status_duration\")  # Completed duration\n",
    ")\n",
    "pos_cash_features_final = pos_cash_balance_reduced.select(\"SK_ID_CURR\", \"SK_ID_PREV\", \"NAME_CONTRACT_TYPE\").distinct() \\\n",
    "    .join(pos_cash_features, on=[\"SK_ID_CURR\", \"SK_ID_PREV\"], how=\"inner\")\n",
    "pos_cash_features_final.show(truncate=False)\n"
   ]
  },
  {
   "cell_type": "code",
   "execution_count": 0,
   "metadata": {
    "application/vnd.databricks.v1+cell": {
     "cellMetadata": {
      "byteLimit": 2048000,
      "rowLimit": 10000
     },
     "inputWidgets": {},
     "nuid": "b782a70c-4eb3-462d-9c30-ab36d4572929",
     "showTitle": false,
     "tableResultSettingsMap": {},
     "title": ""
    }
   },
   "outputs": [],
   "source": [
    "pos_cash_balance_reduced.select(\"SK_ID_CURR\", \"SK_ID_PREV\").distinct().count()"
   ]
  },
  {
   "cell_type": "code",
   "execution_count": 0,
   "metadata": {
    "application/vnd.databricks.v1+cell": {
     "cellMetadata": {
      "byteLimit": 2048000,
      "rowLimit": 10000
     },
     "inputWidgets": {},
     "nuid": "15353a24-8f2c-4e7b-b54c-8b7a928b207d",
     "showTitle": false,
     "tableResultSettingsMap": {},
     "title": ""
    }
   },
   "outputs": [],
   "source": [
    "pos_cash_features_final.count()"
   ]
  },
  {
   "cell_type": "code",
   "execution_count": 0,
   "metadata": {
    "application/vnd.databricks.v1+cell": {
     "cellMetadata": {
      "byteLimit": 2048000,
      "rowLimit": 10000
     },
     "inputWidgets": {},
     "nuid": "a7bdef89-c9e4-4126-b0cc-530f68be301b",
     "showTitle": false,
     "tableResultSettingsMap": {},
     "title": ""
    }
   },
   "outputs": [],
   "source": [
    "credit_card_balance_reduced.show()"
   ]
  },
  {
   "cell_type": "code",
   "execution_count": 0,
   "metadata": {
    "application/vnd.databricks.v1+cell": {
     "cellMetadata": {
      "byteLimit": 2048000,
      "rowLimit": 10000
     },
     "inputWidgets": {},
     "nuid": "b98ff674-f9b0-49f1-90cd-173e34ff3c99",
     "showTitle": false,
     "tableResultSettingsMap": {},
     "title": ""
    }
   },
   "outputs": [],
   "source": [
    "\n",
    "from pyspark.sql import functions as F\n",
    "\n",
    "# Aggregating features for credit_card_balance_reduced\n",
    "credit_card_features = credit_card_balance_reduced.groupBy(\"SK_ID_CURR\", \"SK_ID_PREV\", \"NAME_CONTRACT_TYPE\").agg(\n",
    "    # Amount-Financed Features\n",
    "    F.max(\"AMT_BALANCE\").alias(\"amtf_amt_balance_max\"),  # Max balance\n",
    "    F.min(\"AMT_BALANCE\").alias(\"amtf_amt_balance_min\"),  # Min balance\n",
    "    F.avg(\"AMT_BALANCE\").alias(\"amtf_amt_balance_avg\"),  # Avg balance\n",
    "    F.stddev(\"AMT_BALANCE\").alias(\"amtf_amt_balance_stddev\"),  # Stddev of balance\n",
    "    F.sum(\"AMT_BALANCE\").alias(\"amtf_amt_balance_sum\"),  # Total balance\n",
    "\n",
    "    F.max(\"AMT_CREDIT_LIMIT_ACTUAL\").alias(\"amtf_credit_limit_max\"),  # Max credit limit\n",
    "    F.min(\"AMT_CREDIT_LIMIT_ACTUAL\").alias(\"amtf_credit_limit_min\"),  # Min credit limit\n",
    "    F.avg(\"AMT_CREDIT_LIMIT_ACTUAL\").alias(\"amtf_credit_limit_avg\"),  # Avg credit limit\n",
    "    (F.sum(\"AMT_BALANCE\") / F.sum(\"AMT_CREDIT_LIMIT_ACTUAL\")).alias(\"amtf_credit_utilization_ratio\"),  # Avg credit utilization\n",
    "    (F.max(\"AMT_BALANCE\") / F.max(\"AMT_CREDIT_LIMIT_ACTUAL\")).alias(\"amtf_credit_utilization_max\"),  # Max credit utilization\n",
    "\n",
    "    # Payment Features\n",
    "    F.max(\"AMT_PAYMENT_CURRENT\").alias(\"amtf_amt_payment_current_max\"),  # Max payment\n",
    "    F.min(\"AMT_PAYMENT_CURRENT\").alias(\"amtf_amt_payment_current_min\"),  # Min payment\n",
    "    F.avg(\"AMT_PAYMENT_CURRENT\").alias(\"amtf_amt_payment_current_avg\"),  # Avg payment\n",
    "    F.sum(\"AMT_PAYMENT_CURRENT\").alias(\"amtf_amt_payment_current_sum\"),  # Total payment\n",
    "    F.max(\"AMT_PAYMENT_TOTAL_CURRENT\").alias(\"amtf_amt_payment_total_current_max\"),  # Max total payments\n",
    "    F.sum(\"AMT_PAYMENT_TOTAL_CURRENT\").alias(\"amtf_amt_payment_total_current_sum\"),  # Total of all payments\n",
    "\n",
    "    # Receivable Features\n",
    "    F.max(\"AMT_RECEIVABLE_PRINCIPAL\").alias(\"amtf_receivable_principal_max\"),  # Max principal receivable\n",
    "    F.min(\"AMT_RECEIVABLE_PRINCIPAL\").alias(\"amtf_receivable_principal_min\"),  # Min principal receivable\n",
    "    F.avg(\"AMT_RECEIVABLE_PRINCIPAL\").alias(\"amtf_receivable_principal_avg\"),  # Avg principal receivable\n",
    "    F.sum(\"AMT_RECIVABLE\").alias(\"amtf_amt_receivable_sum\"),  # Total receivable amount\n",
    "    F.avg(\"AMT_RECIVABLE\").alias(\"amtf_amt_receivable_avg\"),  # Avg receivable amount\n",
    "\n",
    "    # Drawing Features\n",
    "    F.sum(\"AMT_DRAWINGS_ATM_CURRENT\").alias(\"amtf_amt_drawings_atm_sum\"),  # Total ATM drawings\n",
    "    F.sum(\"AMT_DRAWINGS_POS_CURRENT\").alias(\"amtf_amt_drawings_pos_sum\"),  # Total POS drawings\n",
    "    F.sum(\"AMT_DRAWINGS_OTHER_CURRENT\").alias(\"amtf_amt_drawings_other_sum\"),  # Total other drawings\n",
    "    F.sum(\"AMT_DRAWINGS_CURRENT\").alias(\"amtf_amt_drawings_total_sum\"),  # Total drawings\n",
    "    (F.sum(\"AMT_DRAWINGS_ATM_CURRENT\") / F.sum(\"AMT_DRAWINGS_CURRENT\")).alias(\"amtf_atm_to_total_drawings_ratio\"),  # ATM-to-total ratio\n",
    "    (F.sum(\"AMT_DRAWINGS_POS_CURRENT\") / F.sum(\"AMT_DRAWINGS_CURRENT\")).alias(\"amtf_pos_to_total_drawings_ratio\"),  # POS-to-total ratio\n",
    "\n",
    "    # Drawing Counts\n",
    "    F.avg(\"CNT_DRAWINGS_ATM_CURRENT\").alias(\"amtf_cnt_drawings_atm_avg\"),  # Avg ATM withdrawals\n",
    "    F.avg(\"CNT_DRAWINGS_POS_CURRENT\").alias(\"amtf_cnt_drawings_pos_avg\"),  # Avg POS transactions\n",
    "    F.avg(\"CNT_DRAWINGS_CURRENT\").alias(\"amtf_cnt_drawings_total_avg\"),  # Avg total withdrawals\n",
    "\n",
    "    # DPD Features\n",
    "    F.max(\"SK_DPD\").alias(\"amtf_dpd_max\"),  # Max days past due\n",
    "    F.avg(\"SK_DPD\").alias(\"amtf_dpd_avg\"),  # Avg days past due\n",
    "    F.sum(F.when(F.col(\"SK_DPD\") > 0, 1).otherwise(0)).alias(\"amtf_dpd_overdue_count\"),  # Count of overdue records\n",
    "    (F.sum(F.when(F.col(\"SK_DPD\") > 0, 1).otherwise(0)) / F.count(\"*\")).alias(\"amtf_dpd_proportion\"),  # Proportion of overdue records\n",
    "    F.max(\"SK_DPD_DEF\").alias(\"amtf_dpd_def_max\"),  # Max DPD with deferrals\n",
    "    F.avg(\"SK_DPD_DEF\").alias(\"amtf_dpd_def_avg\"),  # Avg DPD with deferrals\n",
    "\n",
    "    # Contract Status Features\n",
    "    F.sum(F.when(F.col(\"NAME_CONTRACT_STATUS\") == \"Active\", 1).otherwise(0)).alias(\"amtf_active_contract_count\"),  # Count Active contracts\n",
    "    F.sum(F.when(F.col(\"NAME_CONTRACT_STATUS\") == \"Completed\", 1).otherwise(0)).alias(\"amtf_completed_contract_count\"),  # Count Completed contracts\n",
    "    (F.sum(F.when(F.col(\"NAME_CONTRACT_STATUS\") == \"Active\", 1).otherwise(0)) / F.count(\"*\")).alias(\"amtf_active_status_proportion\"),  # Active proportion\n",
    "    (F.sum(F.when(F.col(\"NAME_CONTRACT_STATUS\") == \"Completed\", 1).otherwise(0)) / F.count(\"*\")).alias(\"amtf_completed_status_proportion\")  # Completed proportion\n",
    ")\n",
    "\n",
    "# Joining with NAME_CONTRACT_TYPE\n",
    "credit_card_features_final = credit_card_balance_reduced.select(\"SK_ID_CURR\", \"SK_ID_PREV\", \"NAME_CONTRACT_TYPE\").distinct() \\\n",
    "    .join(credit_card_features, on=[\"SK_ID_CURR\", \"SK_ID_PREV\", \"NAME_CONTRACT_TYPE\"], how=\"inner\")\n",
    "\n",
    "# Show the final DataFrame\n",
    "credit_card_features_final.show(truncate=False)\n",
    "\n"
   ]
  },
  {
   "cell_type": "code",
   "execution_count": 0,
   "metadata": {
    "application/vnd.databricks.v1+cell": {
     "cellMetadata": {
      "byteLimit": 2048000,
      "rowLimit": 10000
     },
     "inputWidgets": {},
     "nuid": "163e1b41-6a96-4976-b90d-262fd22f7dde",
     "showTitle": false,
     "tableResultSettingsMap": {},
     "title": ""
    }
   },
   "outputs": [],
   "source": [
    "credit_card_balance_reduced.select(\"SK_ID_CURR\", \"SK_ID_PREV\").distinct().count()"
   ]
  },
  {
   "cell_type": "code",
   "execution_count": 0,
   "metadata": {
    "application/vnd.databricks.v1+cell": {
     "cellMetadata": {
      "byteLimit": 2048000,
      "rowLimit": 10000
     },
     "inputWidgets": {},
     "nuid": "16b1f340-fe65-4999-a3fb-a36877528456",
     "showTitle": false,
     "tableResultSettingsMap": {},
     "title": ""
    }
   },
   "outputs": [],
   "source": [
    "credit_card_features_final.count()"
   ]
  },
  {
   "cell_type": "code",
   "execution_count": 0,
   "metadata": {
    "application/vnd.databricks.v1+cell": {
     "cellMetadata": {
      "byteLimit": 2048000,
      "rowLimit": 10000
     },
     "inputWidgets": {},
     "nuid": "a0db7a68-d7bf-4031-8c36-30aff7d77274",
     "showTitle": false,
     "tableResultSettingsMap": {},
     "title": ""
    }
   },
   "outputs": [],
   "source": [
    "installments_payments_reduced.show()"
   ]
  },
  {
   "cell_type": "code",
   "execution_count": 0,
   "metadata": {
    "application/vnd.databricks.v1+cell": {
     "cellMetadata": {
      "byteLimit": 2048000,
      "rowLimit": 10000
     },
     "inputWidgets": {},
     "nuid": "5a7d7a42-e4fe-4fd5-875d-25533a5059ed",
     "showTitle": false,
     "tableResultSettingsMap": {},
     "title": ""
    }
   },
   "outputs": [],
   "source": [
    "# Aggregate features for installments_payments_reduced\n",
    "installments_features = installments_payments_reduced.groupBy(\"SK_ID_CURR\", \"SK_ID_PREV\", \"NAME_CONTRACT_TYPE\").agg(\n",
    "    # Amount-Financed Features\n",
    "    F.sum(\"AMT_INSTALMENT\").alias(\"amtf_amt_instalment_total\"),                # Total amount due\n",
    "    F.avg(\"AMT_INSTALMENT\").alias(\"amtf_amt_instalment_avg\"),                  # Average amount due\n",
    "    F.max(\"AMT_INSTALMENT\").alias(\"amtf_amt_instalment_max\"),                  # Max amount due\n",
    "    F.min(\"AMT_INSTALMENT\").alias(\"amtf_amt_instalment_min\"),                  # Min amount due\n",
    "    F.sum(\"AMT_PAYMENT\").alias(\"amtf_amt_payment_total\"),                      # Total amount paid\n",
    "    F.avg(\"AMT_PAYMENT\").alias(\"amtf_amt_payment_avg\"),                        # Average amount paid\n",
    "    F.max(\"AMT_PAYMENT\").alias(\"amtf_amt_payment_max\"),                        # Max amount paid\n",
    "    F.min(\"AMT_PAYMENT\").alias(\"amtf_amt_payment_min\"),                        # Min amount paid\n",
    "    F.stddev(\"AMT_PAYMENT\").alias(\"amtf_amt_payment_stddev\"),                  # Stddev of payment amounts\n",
    "    (F.sum(\"AMT_PAYMENT\") / F.sum(\"AMT_INSTALMENT\")).alias(\"amtf_payment_to_instalment_ratio\"),  # Payment-to-installment ratio\n",
    "\n",
    "    # Timing Features\n",
    "    F.sum(F.when(F.col(\"DAYS_ENTRY_PAYMENT\") > 0, 1).otherwise(0)).alias(\"amtf_late_payment_count\"),  # Count of late payments\n",
    "    F.avg(F.when(F.col(\"DAYS_ENTRY_PAYMENT\") > 0, F.col(\"DAYS_ENTRY_PAYMENT\")).otherwise(None)).alias(\"amtf_avg_days_late\"),  # Avg days late\n",
    "    F.max(F.when(F.col(\"DAYS_ENTRY_PAYMENT\") > 0, F.col(\"DAYS_ENTRY_PAYMENT\")).otherwise(None)).alias(\"amtf_max_days_late\"),  # Max days late\n",
    "    F.min(F.when(F.col(\"DAYS_ENTRY_PAYMENT\") > 0, F.col(\"DAYS_ENTRY_PAYMENT\")).otherwise(None)).alias(\"amtf_min_days_late\"),  # Min days late\n",
    "    F.sum(F.when(F.col(\"DAYS_ENTRY_PAYMENT\") < 0, 1).otherwise(0)).alias(\"amtf_early_payment_count\"),  # Count of early payments\n",
    "    F.avg(F.when(F.col(\"DAYS_ENTRY_PAYMENT\") < 0, F.col(\"DAYS_ENTRY_PAYMENT\")).otherwise(None)).alias(\"amtf_avg_days_early\"),  # Avg days early\n",
    "    F.max(F.when(F.col(\"DAYS_ENTRY_PAYMENT\") < 0, F.col(\"DAYS_ENTRY_PAYMENT\")).otherwise(None)).alias(\"amtf_max_days_early\"),  # Max days early\n",
    "    F.min(F.when(F.col(\"DAYS_ENTRY_PAYMENT\") < 0, F.col(\"DAYS_ENTRY_PAYMENT\")).otherwise(None)).alias(\"amtf_min_days_early\"),  # Min days early\n",
    "    F.stddev(\"DAYS_ENTRY_PAYMENT\").alias(\"amtf_days_entry_payment_stddev\"),    # Stddev of payment timing\n",
    "\n",
    "    # Installment-Specific Features\n",
    "    F.countDistinct(\"NUM_INSTALMENT_VERSION\").alias(\"amtf_distinct_version_count\"),  # Distinct installment plan versions\n",
    "    F.countDistinct(\"NUM_INSTALMENT_NUMBER\").alias(\"amtf_distinct_installment_count\"),  # Distinct installment numbers\n",
    "    F.sum(F.when(F.col(\"AMT_PAYMENT\") >= F.col(\"AMT_INSTALMENT\"), 1).otherwise(0)).alias(\"amtf_exact_or_over_payment_count\"),  # Count of exact or overpayments\n",
    "    F.sum(F.when(F.col(\"AMT_PAYMENT\") < F.col(\"AMT_INSTALMENT\"), 1).otherwise(0)).alias(\"amtf_underpayment_count\"),  # Count of underpayments\n",
    "    F.sum(F.when(F.col(\"AMT_PAYMENT\") < F.col(\"AMT_INSTALMENT\"), F.col(\"AMT_INSTALMENT\") - F.col(\"AMT_PAYMENT\")).otherwise(0)).alias(\"amtf_underpayment_amount_total\"),  # Total underpayment amount\n",
    "\n",
    "    # Days-Installment Features\n",
    "    F.max(\"DAYS_INSTALMENT\").alias(\"amtf_days_installment_max\"),               # Latest installment due date\n",
    "    F.min(\"DAYS_INSTALMENT\").alias(\"amtf_days_installment_min\"),               # Earliest installment due date\n",
    "    F.avg(\"DAYS_INSTALMENT\").alias(\"amtf_days_installment_avg\"),               # Avg days installment due\n",
    "\n",
    "    # Loan Type-Specific Aggregates\n",
    "    F.sum(F.when(F.col(\"NAME_CONTRACT_TYPE\") == \"Cash loans\", \"AMT_PAYMENT\").otherwise(0)).alias(\"amtf_cash_loans_total_payment\"),  # Total payment for cash loans\n",
    "    F.sum(F.when(F.col(\"NAME_CONTRACT_TYPE\") == \"Revolving loans\", \"AMT_PAYMENT\").otherwise(0)).alias(\"amtf_revolving_loans_total_payment\"),  # Total payment for revolving loans\n",
    "    F.count(F.when(F.col(\"NAME_CONTRACT_TYPE\") == \"Cash loans\", 1).otherwise(None)).alias(\"amtf_cash_loans_count\"),  # Count for cash loans\n",
    "    F.count(F.when(F.col(\"NAME_CONTRACT_TYPE\") == \"Revolving loans\", 1).otherwise(None)).alias(\"amtf_revolving_loans_count\")  # Count for revolving loans\n",
    ")\n",
    "\n",
    "# Add additional features if necessary\n",
    "installments_features = installments_features.withColumn(\n",
    "    \"amtf_late_payment_proportion\",\n",
    "    F.col(\"amtf_late_payment_count\") / F.col(\"amtf_distinct_installment_count\")  # Proportion of late payments\n",
    ").withColumn(\n",
    "    \"amtf_early_payment_proportion\",\n",
    "    F.col(\"amtf_early_payment_count\") / F.col(\"amtf_distinct_installment_count\")  # Proportion of early payments\n",
    ")\n",
    "\n",
    "# Final DataFrame\n",
    "installments_features_final = installments_payments_reduced.select(\"SK_ID_CURR\", \"SK_ID_PREV\", \"NAME_CONTRACT_TYPE\").distinct() \\\n",
    "    .join(installments_features, on=[\"SK_ID_CURR\", \"SK_ID_PREV\", \"NAME_CONTRACT_TYPE\"], how=\"inner\")\n",
    "\n",
    "# Show the final result\n",
    "installments_features_final.show(truncate=False)\n"
   ]
  },
  {
   "cell_type": "code",
   "execution_count": 0,
   "metadata": {
    "application/vnd.databricks.v1+cell": {
     "cellMetadata": {
      "byteLimit": 2048000,
      "rowLimit": 10000
     },
     "inputWidgets": {},
     "nuid": "534d25db-ea9e-454e-87a2-35dbbfa48506",
     "showTitle": false,
     "tableResultSettingsMap": {},
     "title": ""
    }
   },
   "outputs": [],
   "source": [
    "installments_payments_reduced.select(\"SK_ID_CURR\", \"SK_ID_PREV\").distinct().count()"
   ]
  },
  {
   "cell_type": "code",
   "execution_count": 0,
   "metadata": {
    "application/vnd.databricks.v1+cell": {
     "cellMetadata": {
      "byteLimit": 2048000,
      "rowLimit": 10000
     },
     "inputWidgets": {},
     "nuid": "4ed7b4ea-62a4-46a7-a840-7708b1db6ac0",
     "showTitle": false,
     "tableResultSettingsMap": {},
     "title": ""
    }
   },
   "outputs": [],
   "source": [
    "installments_features_final.count()"
   ]
  },
  {
   "cell_type": "code",
   "execution_count": 0,
   "metadata": {
    "application/vnd.databricks.v1+cell": {
     "cellMetadata": {
      "byteLimit": 2048000,
      "rowLimit": 10000
     },
     "inputWidgets": {},
     "nuid": "e1e9d59d-6152-4a4c-81cd-5333f1e12f33",
     "showTitle": false,
     "tableResultSettingsMap": {},
     "title": ""
    }
   },
   "outputs": [],
   "source": [
    "# Perform full outer join for all three tables on SK_ID_CURR and SK_ID_PREV\n",
    "combined_features = pos_cash_features_final.alias(\"pos\") \\\n",
    "    .join(credit_card_features_final.alias(\"cc\"), [\"SK_ID_CURR\", \"SK_ID_PREV\"], \"full_outer\") \\\n",
    "    .join(installments_features_final.alias(\"inst\"), [\"SK_ID_CURR\", \"SK_ID_PREV\"], \"full_outer\")\n",
    "\n",
    "# Fill missing values (optional, based on requirements)\n",
    "combined_amtf_features = combined_features.fillna(0)  # Replace NaN with 0 for numeric columns\n",
    "\n",
    "# Show the combined result\n",
    "combined_amtf_features.limit(10).display()\n",
    "\n",
    "# Count the number of rows and columns to verify completeness\n",
    "print(f\"Total Rows: {combined_amtf_features.count()}\")\n",
    "print(f\"Total Features (Columns): {len(combined_amtf_features.columns)}\")"
   ]
  },
  {
   "cell_type": "code",
   "execution_count": 0,
   "metadata": {
    "application/vnd.databricks.v1+cell": {
     "cellMetadata": {
      "byteLimit": 2048000,
      "rowLimit": 10000
     },
     "inputWidgets": {},
     "nuid": "4bf44092-e7bd-4917-bd0b-e3bd5bf415ed",
     "showTitle": false,
     "tableResultSettingsMap": {},
     "title": ""
    }
   },
   "outputs": [],
   "source": [
    "combined_amtf_features.limit(10).display()"
   ]
  },
  {
   "cell_type": "code",
   "execution_count": 0,
   "metadata": {
    "application/vnd.databricks.v1+cell": {
     "cellMetadata": {
      "byteLimit": 2048000,
      "rowLimit": 10000
     },
     "inputWidgets": {},
     "nuid": "74249a75-a519-478d-8a55-353645f0f546",
     "showTitle": false,
     "tableResultSettingsMap": {},
     "title": ""
    }
   },
   "outputs": [],
   "source": [
    "installments_payments_reduced.createOrReplaceTempView('installments_payments_reduced_temp')\n"
   ]
  },
  {
   "cell_type": "code",
   "execution_count": 0,
   "metadata": {
    "application/vnd.databricks.v1+cell": {
     "cellMetadata": {
      "byteLimit": 2048000,
      "implicitDf": true,
      "rowLimit": 10000
     },
     "inputWidgets": {},
     "nuid": "5c7ebf01-eb79-479d-a65c-e6a03a56e77d",
     "showTitle": false,
     "tableResultSettingsMap": {},
     "title": ""
    }
   },
   "outputs": [],
   "source": [
    "%sql\n",
    "select NAME_CONTRACT_TYPE,count(*) from installments_payments_reduced_temp group by 1"
   ]
  },
  {
   "cell_type": "code",
   "execution_count": 0,
   "metadata": {
    "application/vnd.databricks.v1+cell": {
     "cellMetadata": {
      "byteLimit": 2048000,
      "rowLimit": 10000
     },
     "inputWidgets": {},
     "nuid": "e9f46608-255c-46ee-8335-71e1de175416",
     "showTitle": false,
     "tableResultSettingsMap": {},
     "title": ""
    }
   },
   "outputs": [],
   "source": [
    "credit_card_installment_features_level_1 = credit_card_features_final.alias(\"a\") \\\n",
    "    .join(installments_features_final.alias(\"b\"), \n",
    "          (F.col(\"a.SK_ID_CURR\") == F.col(\"b.SK_ID_CURR\")) & \n",
    "          (F.col(\"a.SK_ID_PREV\") == F.col(\"b.SK_ID_PREV\")), \n",
    "          how=\"left\") \\\n",
    "     .select(\"a.*\", *[F.col(f\"b.{col}\") for col in installments_features_final.columns if col not in [\"NAME_CONTRACT_TYPE\", \"SK_ID_CURR\", \"SK_ID_PREV\"]])"
   ]
  },
  {
   "cell_type": "code",
   "execution_count": 0,
   "metadata": {
    "application/vnd.databricks.v1+cell": {
     "cellMetadata": {
      "byteLimit": 2048000,
      "rowLimit": 10000
     },
     "inputWidgets": {},
     "nuid": "77abeccd-d408-48c0-a30f-c817c9e90c0f",
     "showTitle": false,
     "tableResultSettingsMap": {},
     "title": ""
    }
   },
   "outputs": [],
   "source": [
    "pos_cash_installment_features_level_1 = pos_cash_features_final.alias(\"a\") \\\n",
    "    .join(installments_features_final.alias(\"b\"), \n",
    "          (F.col(\"a.SK_ID_CURR\") == F.col(\"b.SK_ID_CURR\")) & \n",
    "          (F.col(\"a.SK_ID_PREV\") == F.col(\"b.SK_ID_PREV\")), \n",
    "          how=\"left\") \\\n",
    "    .select(\"a.*\", *[F.col(f\"b.{col}\") for col in installments_features_final.columns if col not in [\"NAME_CONTRACT_TYPE\", \"SK_ID_CURR\", \"SK_ID_PREV\"]])"
   ]
  },
  {
   "cell_type": "code",
   "execution_count": 0,
   "metadata": {
    "application/vnd.databricks.v1+cell": {
     "cellMetadata": {
      "byteLimit": 2048000,
      "rowLimit": 10000
     },
     "inputWidgets": {},
     "nuid": "6502ad98-e33b-4395-8cb1-cf59bdbbabc8",
     "showTitle": false,
     "tableResultSettingsMap": {},
     "title": ""
    }
   },
   "outputs": [],
   "source": [
    "pos_cash_installment_features_level_1.limit(10).display()"
   ]
  },
  {
   "cell_type": "code",
   "execution_count": 0,
   "metadata": {
    "application/vnd.databricks.v1+cell": {
     "cellMetadata": {
      "byteLimit": 2048000,
      "rowLimit": 10000
     },
     "inputWidgets": {},
     "nuid": "71f5d8d0-ffb2-4bea-80c1-6ebeb35d2227",
     "showTitle": false,
     "tableResultSettingsMap": {},
     "title": ""
    }
   },
   "outputs": [],
   "source": [
    "pos_cash_features_final.select(\"SK_ID_CURR\", \"SK_ID_PREV\").distinct().count()"
   ]
  },
  {
   "cell_type": "code",
   "execution_count": 0,
   "metadata": {
    "application/vnd.databricks.v1+cell": {
     "cellMetadata": {
      "byteLimit": 2048000,
      "rowLimit": 10000
     },
     "inputWidgets": {},
     "nuid": "7b4ec975-51cc-4394-93a9-52e394e60d04",
     "showTitle": false,
     "tableResultSettingsMap": {},
     "title": ""
    }
   },
   "outputs": [],
   "source": [
    "pos_cash_features_final.select().count()"
   ]
  },
  {
   "cell_type": "code",
   "execution_count": 0,
   "metadata": {
    "application/vnd.databricks.v1+cell": {
     "cellMetadata": {
      "byteLimit": 2048000,
      "rowLimit": 10000
     },
     "inputWidgets": {},
     "nuid": "b0e1e931-21a0-4363-95f9-8b2a2f153e8a",
     "showTitle": false,
     "tableResultSettingsMap": {},
     "title": ""
    }
   },
   "outputs": [],
   "source": [
    "pos_cash_installment_features_level_1.select().count()"
   ]
  },
  {
   "cell_type": "code",
   "execution_count": 0,
   "metadata": {
    "application/vnd.databricks.v1+cell": {
     "cellMetadata": {
      "byteLimit": 2048000,
      "rowLimit": 10000
     },
     "inputWidgets": {},
     "nuid": "e4974fd5-12c5-473b-9aea-6ff100b96119",
     "showTitle": false,
     "tableResultSettingsMap": {},
     "title": ""
    }
   },
   "outputs": [],
   "source": [
    "pos_cash_installment_features_level_1.write.mode(\"overwrite\").saveAsTable(\"pos_cash_installment_features_level_1\")"
   ]
  },
  {
   "cell_type": "code",
   "execution_count": 0,
   "metadata": {
    "application/vnd.databricks.v1+cell": {
     "cellMetadata": {
      "byteLimit": 2048000,
      "rowLimit": 10000
     },
     "inputWidgets": {},
     "nuid": "ebbc1261-4a72-4886-a031-6a2c555da266",
     "showTitle": false,
     "tableResultSettingsMap": {},
     "title": ""
    }
   },
   "outputs": [],
   "source": [
    "installments_features_final.filter(F.col(\"NAME_CONTRACT_TYPE\") != \"Cash loans\").count()"
   ]
  },
  {
   "cell_type": "code",
   "execution_count": 0,
   "metadata": {
    "application/vnd.databricks.v1+cell": {
     "cellMetadata": {
      "byteLimit": 2048000,
      "rowLimit": 10000
     },
     "inputWidgets": {},
     "nuid": "63ec47e9-1a4f-4b74-bdb7-7c40295fe8e9",
     "showTitle": false,
     "tableResultSettingsMap": {},
     "title": ""
    }
   },
   "outputs": [],
   "source": [
    "credit_card_features_final.count()"
   ]
  },
  {
   "cell_type": "code",
   "execution_count": 0,
   "metadata": {
    "application/vnd.databricks.v1+cell": {
     "cellMetadata": {
      "byteLimit": 2048000,
      "rowLimit": 10000
     },
     "inputWidgets": {},
     "nuid": "d67da7c6-bfa2-49d5-9c92-15eee5872741",
     "showTitle": false,
     "tableResultSettingsMap": {},
     "title": ""
    }
   },
   "outputs": [],
   "source": [
    "credit_card_installment_features_level_1.count()"
   ]
  },
  {
   "cell_type": "code",
   "execution_count": 0,
   "metadata": {
    "application/vnd.databricks.v1+cell": {
     "cellMetadata": {
      "byteLimit": 2048000,
      "rowLimit": 10000
     },
     "inputWidgets": {},
     "nuid": "a2788ed3-474d-427f-9e0b-3902ec40ee1b",
     "showTitle": false,
     "tableResultSettingsMap": {},
     "title": ""
    }
   },
   "outputs": [],
   "source": [
    "credit_card_installment_features_level_1.write.mode(\"overwrite\").saveAsTable(\"credit_card_installment_features_level_1\")"
   ]
  },
  {
   "cell_type": "code",
   "execution_count": 0,
   "metadata": {
    "application/vnd.databricks.v1+cell": {
     "cellMetadata": {
      "byteLimit": 2048000,
      "rowLimit": 10000
     },
     "inputWidgets": {},
     "nuid": "e6ddd920-b848-41f9-b6f3-fac2285edbe8",
     "showTitle": false,
     "tableResultSettingsMap": {},
     "title": ""
    }
   },
   "outputs": [],
   "source": [
    "# Aggregate features at SK_ID_CURR level\n",
    "pos_cash_installments_aggregated = pos_cash_installment_features_level_1.groupBy(\"SK_ID_CURR\").agg(\n",
    "    # Loan Duration Features\n",
    "    F.max(\"amtf_loan_duration_months\").alias(\"amtf_loan_duration_max\"),\n",
    "    F.min(\"amtf_loan_duration_months\").alias(\"amtf_loan_duration_min\"),\n",
    "    F.avg(\"amtf_loan_duration_months\").alias(\"amtf_loan_duration_avg\"),\n",
    "    F.stddev(\"amtf_loan_duration_months\").alias(\"amtf_loan_duration_stddev\"),\n",
    "\n",
    "    # Amount Features\n",
    "    F.sum(\"amtf_amt_instalment_total\").alias(\"amtf_amt_instalment_total_sum\"),\n",
    "    F.avg(\"amtf_amt_instalment_avg\").alias(\"amtf_amt_instalment_avg\"),\n",
    "    F.max(\"amtf_amt_instalment_max\").alias(\"amtf_amt_instalment_max\"),\n",
    "    F.min(\"amtf_amt_instalment_min\").alias(\"amtf_amt_instalment_min\"),\n",
    "    F.stddev(\"amtf_amt_instalment_avg\").alias(\"amtf_amt_instalment_avg_stddev\"),\n",
    "    \n",
    "    F.sum(\"amtf_amt_payment_total\").alias(\"amtf_amt_payment_total_sum\"),\n",
    "    F.avg(\"amtf_amt_payment_avg\").alias(\"amtf_amt_payment_avg\"),\n",
    "    F.max(\"amtf_amt_payment_max\").alias(\"amtf_amt_payment_max\"),\n",
    "    F.min(\"amtf_amt_payment_min\").alias(\"amtf_amt_payment_min\"),\n",
    "    F.stddev(\"amtf_amt_payment_avg\").alias(\"amtf_amt_payment_avg_stddev\"),\n",
    "\n",
    "    # Timing Features\n",
    "    F.avg(\"amtf_avg_days_late\").alias(\"amtf_avg_days_late_avg\"),\n",
    "    F.max(\"amtf_max_days_late\").alias(\"amtf_max_days_late_max\"),\n",
    "    F.min(\"amtf_min_days_late\").alias(\"amtf_min_days_late_min\"),\n",
    "    F.avg(\"amtf_avg_days_early\").alias(\"amtf_avg_days_early_avg\"),\n",
    "    F.max(\"amtf_max_days_early\").alias(\"amtf_max_days_early_max\"),\n",
    "    F.min(\"amtf_min_days_early\").alias(\"amtf_min_days_early_min\"),\n",
    "    F.sum(\"amtf_late_payment_count\").alias(\"amtf_late_payment_total\"),\n",
    "    F.sum(\"amtf_early_payment_count\").alias(\"amtf_early_payment_total\"),\n",
    "    F.avg(\"amtf_days_entry_payment_stddev\").alias(\"amtf_days_entry_payment_stddev_avg\"),\n",
    "\n",
    "    # Status Features\n",
    "    F.sum(\"amtf_active_status_count\").alias(\"amtf_active_status_total\"),\n",
    "    F.sum(\"amtf_completed_status_count\").alias(\"amtf_completed_status_total\"),\n",
    "    F.avg(\"amtf_active_status_proportion\").alias(\"amtf_active_status_proportion_avg\"),\n",
    "    F.avg(\"amtf_completed_status_proportion\").alias(\"amtf_completed_status_proportion_avg\"),\n",
    "\n",
    "    # Ratios\n",
    "    F.avg(\"amtf_payment_to_instalment_ratio\").alias(\"amtf_payment_to_instalment_ratio_avg\"),\n",
    "    F.sum(\"amtf_payment_to_instalment_ratio\").alias(\"amtf_payment_to_instalment_ratio_sum\"),\n",
    "    \n",
    "    # Default Features\n",
    "    F.sum(\"amtf_deferral_count\").alias(\"amtf_deferral_count_total\"),\n",
    "    F.avg(\"amtf_deferral_proportion\").alias(\"amtf_deferral_proportion_avg\"),\n",
    "    F.sum(\"amtf_overdue_count\").alias(\"amtf_overdue_count_total\"),\n",
    "    F.avg(\"amtf_stddev_dpd\").alias(\"amtf_stddev_dpd_avg\"),\n",
    "\n",
    "    # Loan Count Features\n",
    "    F.sum(\"amtf_cash_loans_count\").alias(\"amtf_cash_loans_total\"),\n",
    "    F.avg(\"amtf_cash_loans_count\").alias(\"amtf_cash_loans_avg\"),\n",
    "    F.sum(\"amtf_revolving_loans_count\").alias(\"amtf_revolving_loans_total\"),\n",
    "    F.avg(\"amtf_revolving_loans_count\").alias(\"amtf_revolving_loans_avg\"),\n",
    "\n",
    "    # Installment Features\n",
    "    F.sum(\"amtf_instalments_completed\").alias(\"amtf_instalments_completed_total\"),\n",
    "    F.avg(\"amtf_future_installment_ratio\").alias(\"amtf_future_installment_ratio_avg\"),\n",
    "    \n",
    "    # Days Installment Features\n",
    "    F.max(\"amtf_days_installment_max\").alias(\"amtf_days_installment_latest\"),\n",
    "    F.min(\"amtf_days_installment_min\").alias(\"amtf_days_installment_earliest\"),\n",
    "    F.avg(\"amtf_days_installment_avg\").alias(\"amtf_days_installment_avg\"),\n",
    "    \n",
    "    # Aggregated Trends\n",
    "    F.sum(\"amtf_amt_instalment_total\").alias(\"amtf_total_financed_amount\"),\n",
    "    F.sum(\"amtf_amt_payment_total\").alias(\"amtf_total_repaid_amount\"),\n",
    "    (F.sum(\"amtf_amt_payment_total\") / F.sum(\"amtf_amt_instalment_total\")).alias(\"amtf_total_repayment_ratio\"),\n",
    ")\n",
    "# Final DataFrame\n",
    "\n",
    "pos_cash_installment_features_level_2 = pos_cash_installments_aggregated.alias(\"a\") \\\n",
    "    .join(\n",
    "        pos_cash_installment_features_level_1.select(\"SK_ID_CURR\", \"NAME_CONTRACT_TYPE\").distinct().alias(\"b\"),\n",
    "        on=F.col(\"a.SK_ID_CURR\") == F.col(\"b.SK_ID_CURR\"),\n",
    "        how=\"left\"\n",
    "    ) \\\n",
    "    .select(\"a.*\", \"b.NAME_CONTRACT_TYPE\")\n",
    "\n",
    "# Display the first 10 rows\n",
    "pos_cash_installment_features_level_2.limit(10).display()"
   ]
  },
  {
   "cell_type": "code",
   "execution_count": 0,
   "metadata": {
    "application/vnd.databricks.v1+cell": {
     "cellMetadata": {
      "byteLimit": 2048000,
      "rowLimit": 10000
     },
     "inputWidgets": {},
     "nuid": "1f4288c3-4128-40c6-a3c0-4ca5a21aded7",
     "showTitle": false,
     "tableResultSettingsMap": {},
     "title": ""
    }
   },
   "outputs": [],
   "source": [
    "pos_cash_installment_features_level_2.select().count()"
   ]
  },
  {
   "cell_type": "code",
   "execution_count": 0,
   "metadata": {
    "application/vnd.databricks.v1+cell": {
     "cellMetadata": {
      "byteLimit": 2048000,
      "rowLimit": 10000
     },
     "inputWidgets": {},
     "nuid": "6313d65d-fa12-4578-8505-b9adb7face39",
     "showTitle": false,
     "tableResultSettingsMap": {},
     "title": ""
    }
   },
   "outputs": [],
   "source": [
    "pos_cash_installment_features_level_1.select(\"SK_ID_CURR\").distinct().count()"
   ]
  },
  {
   "cell_type": "code",
   "execution_count": 0,
   "metadata": {
    "application/vnd.databricks.v1+cell": {
     "cellMetadata": {
      "byteLimit": 2048000,
      "rowLimit": 10000
     },
     "inputWidgets": {},
     "nuid": "b9b3b70e-ef05-415a-9ae0-7be457f296b0",
     "showTitle": false,
     "tableResultSettingsMap": {},
     "title": ""
    }
   },
   "outputs": [],
   "source": [
    "pos_cash_installment_features_level_2.write.mode(\"overwrite\").saveAsTable(\"pos_cash_installment_features_level_2\")"
   ]
  },
  {
   "cell_type": "code",
   "execution_count": 0,
   "metadata": {
    "application/vnd.databricks.v1+cell": {
     "cellMetadata": {
      "byteLimit": 2048000,
      "rowLimit": 10000
     },
     "inputWidgets": {},
     "nuid": "818e7033-b5e3-4558-a66f-5844ed595d65",
     "showTitle": false,
     "tableResultSettingsMap": {},
     "title": ""
    }
   },
   "outputs": [],
   "source": [
    "credit_card_installment_features_level_1.limit(10).display()"
   ]
  },
  {
   "cell_type": "code",
   "execution_count": 0,
   "metadata": {
    "application/vnd.databricks.v1+cell": {
     "cellMetadata": {
      "byteLimit": 2048000,
      "rowLimit": 10000
     },
     "inputWidgets": {},
     "nuid": "9d34488b-9dd1-44ba-89fc-b3e4b7c6ed82",
     "showTitle": false,
     "tableResultSettingsMap": {},
     "title": ""
    }
   },
   "outputs": [],
   "source": [
    "credit_card_installments_aggregated = credit_card_installment_features_level_1.groupBy(\"SK_ID_CURR\").agg(\n",
    "\n",
    "    # **Amount-Financed Features**\n",
    "    F.sum(\"amtf_amt_balance_sum\").alias(\"amtf_total_balance\"),\n",
    "    F.avg(\"amtf_amt_balance_avg\").alias(\"amtf_avg_balance\"),\n",
    "    F.max(\"amtf_amt_balance_max\").alias(\"amtf_max_balance\"),\n",
    "    F.min(\"amtf_amt_balance_min\").alias(\"amtf_min_balance\"),\n",
    "    F.stddev(\"amtf_amt_balance_stddev\").alias(\"amtf_balance_stddev\"),\n",
    "    F.sum(\"amtf_amt_payment_current_sum\").alias(\"amtf_total_current_payment\"),\n",
    "    F.avg(\"amtf_amt_payment_current_avg\").alias(\"amtf_avg_current_payment\"),\n",
    "    F.max(\"amtf_amt_payment_current_max\").alias(\"amtf_max_current_payment\"),\n",
    "    F.min(\"amtf_amt_payment_current_min\").alias(\"amtf_min_current_payment\"),\n",
    "    F.stddev(\"amtf_amt_payment_current_avg\").alias(\"amtf_current_payment_stddev\"),\n",
    "\n",
    "    # **Credit Utilization**\n",
    "    F.avg(\"amtf_credit_utilization_ratio\").alias(\"amtf_avg_credit_utilization_ratio\"),\n",
    "    F.max(\"amtf_credit_utilization_ratio\").alias(\"amtf_max_credit_utilization_ratio\"),\n",
    "    F.avg(\"amtf_credit_limit_avg\").alias(\"amtf_avg_credit_limit\"),\n",
    "    F.max(\"amtf_credit_limit_max\").alias(\"amtf_max_credit_limit\"),\n",
    "    F.min(\"amtf_credit_limit_min\").alias(\"amtf_min_credit_limit\"),\n",
    "\n",
    "    # **Receivable and Drawing Features**\n",
    "    F.sum(\"amtf_amt_receivable_sum\").alias(\"amtf_total_receivable\"),\n",
    "    F.avg(\"amtf_amt_receivable_avg\").alias(\"amtf_avg_receivable\"),\n",
    "    F.sum(\"amtf_amt_drawings_total_sum\").alias(\"amtf_total_drawings\"),\n",
    "    F.avg(\"amtf_amt_drawings_total_sum\").alias(\"amtf_avg_drawings\"),\n",
    "    F.sum(\"amtf_amt_drawings_pos_sum\").alias(\"amtf_total_pos_drawings\"),\n",
    "    F.sum(\"amtf_amt_drawings_atm_sum\").alias(\"amtf_total_atm_drawings\"),\n",
    "    F.sum(\"amtf_amt_drawings_other_sum\").alias(\"amtf_total_other_drawings\"),\n",
    "    F.avg(\"amtf_atm_to_total_drawings_ratio\").alias(\"amtf_avg_atm_to_total_drawings_ratio\"),\n",
    "    F.avg(\"amtf_pos_to_total_drawings_ratio\").alias(\"amtf_avg_pos_to_total_drawings_ratio\"),\n",
    "\n",
    "    # **Installments and Payment Ratios**\n",
    "    F.sum(\"amtf_amt_instalment_total\").alias(\"amtf_total_instalment\"),\n",
    "    F.avg(\"amtf_amt_instalment_avg\").alias(\"amtf_avg_instalment\"),\n",
    "    F.sum(\"amtf_amt_payment_total\").alias(\"amtf_total_payment\"),\n",
    "    F.avg(\"amtf_payment_to_instalment_ratio\").alias(\"amtf_avg_payment_to_instalment_ratio\"),\n",
    "    F.sum(\"amtf_underpayment_amount_total\").alias(\"amtf_total_underpayment\"),\n",
    "    F.avg(\"amtf_underpayment_count\").alias(\"amtf_avg_underpayment_count\"),\n",
    "    F.sum(\"amtf_late_payment_count\").alias(\"amtf_total_late_payments\"),\n",
    "    F.avg(\"amtf_late_payment_proportion\").alias(\"amtf_avg_late_payment_proportion\"),\n",
    "\n",
    "    # **Timing Features**\n",
    "    F.max(\"amtf_max_days_late\").alias(\"amtf_max_days_late\"),\n",
    "    F.avg(\"amtf_avg_days_late\").alias(\"amtf_avg_days_late\"),\n",
    "    F.min(\"amtf_min_days_late\").alias(\"amtf_min_days_late\"),\n",
    "    F.max(\"amtf_max_days_early\").alias(\"amtf_max_days_early\"),\n",
    "    F.avg(\"amtf_avg_days_early\").alias(\"amtf_avg_days_early\"),\n",
    "    F.stddev(\"amtf_days_entry_payment_stddev\").alias(\"amtf_payment_timing_stddev\"),\n",
    "\n",
    "    # **Status Features**\n",
    "    F.sum(\"amtf_active_contract_count\").alias(\"amtf_total_active_contracts\"),\n",
    "    F.sum(\"amtf_completed_contract_count\").alias(\"amtf_total_completed_contracts\"),\n",
    "    F.avg(\"amtf_active_status_proportion\").alias(\"amtf_avg_active_status_proportion\"),\n",
    "    F.avg(\"amtf_completed_status_proportion\").alias(\"amtf_avg_completed_status_proportion\"),\n",
    "\n",
    "    # **Loan Duration and Version Features**\n",
    "    F.sum(\"amtf_days_installment_max\").alias(\"amtf_total_days_installment_max\"),\n",
    "    F.min(\"amtf_days_installment_min\").alias(\"amtf_total_days_installment_min\"),\n",
    "    F.avg(\"amtf_days_installment_avg\").alias(\"amtf_avg_days_installment\"),\n",
    "    F.countDistinct(\"amtf_distinct_version_count\").alias(\"amtf_total_distinct_versions\"),\n",
    "    F.countDistinct(\"amtf_distinct_installment_count\").alias(\"amtf_total_distinct_installments\"),\n",
    "\n",
    "    # **Derived Ratios**\n",
    "    (F.sum(\"amtf_amt_payment_current_sum\") / F.sum(\"amtf_amt_balance_sum\")).alias(\"amtf_payment_to_balance_ratio\"),\n",
    "    (F.sum(\"amtf_amt_drawings_total_sum\") / F.sum(\"amtf_amt_balance_sum\")).alias(\"amtf_drawings_to_balance_ratio\"),\n",
    "    F.avg(F.when(F.col(\"amtf_dpd_max\") > 0, 1).otherwise(0)).alias(\"amtf_overdue_proportion\"),\n",
    "    F.avg(F.when(F.col(\"amtf_dpd_def_max\") > 0, 1).otherwise(0)).alias(\"amtf_deferral_proportion\"),\n",
    "\n",
    "    # **Loan Type-Specific Features**\n",
    "    F.sum(F.when(F.col(\"NAME_CONTRACT_TYPE\") == \"Revolving loans\", \"amtf_amt_payment_total_current_sum\")).alias(\"amtf_revolving_loans_payment_sum\"),\n",
    "    F.avg(F.when(F.col(\"NAME_CONTRACT_TYPE\") == \"Revolving loans\", \"amtf_amt_payment_total_current_avg\")).alias(\"amtf_revolving_loans_payment_avg\"),\n",
    "    F.sum(F.when(F.col(\"NAME_CONTRACT_TYPE\") == \"Revolving loans\", \"amtf_amt_drawings_total_sum\")).alias(\"amtf_revolving_loans_drawings_sum\"),\n",
    "    F.avg(F.when(F.col(\"NAME_CONTRACT_TYPE\") == \"Revolving loans\", \"amtf_amt_drawings_total_sum\")).alias(\"amtf_revolving_loans_drawings_avg\"),\n",
    ")\n",
    "\n",
    "credit_card_installment_features_level_2 = credit_card_installments_aggregated.alias(\"a\") \\\n",
    "    .join(\n",
    "        credit_card_installment_features_level_1.select(\"SK_ID_CURR\", \"NAME_CONTRACT_TYPE\").distinct().alias(\"b\"),\n",
    "        on=F.col(\"a.SK_ID_CURR\") == F.col(\"b.SK_ID_CURR\"),\n",
    "        how=\"left\"\n",
    "    ) \\\n",
    "    .select(\"a.*\", \"b.NAME_CONTRACT_TYPE\")\n",
    "\n",
    "# Display the first 10 rows\n",
    "credit_card_installment_features_level_2.limit(10).display()"
   ]
  },
  {
   "cell_type": "code",
   "execution_count": 0,
   "metadata": {
    "application/vnd.databricks.v1+cell": {
     "cellMetadata": {
      "byteLimit": 2048000,
      "rowLimit": 10000
     },
     "inputWidgets": {},
     "nuid": "94a3b112-e485-4dfc-9ab6-a92868cbfb46",
     "showTitle": false,
     "tableResultSettingsMap": {},
     "title": ""
    }
   },
   "outputs": [],
   "source": [
    "credit_card_installment_features_level_2.select().count()"
   ]
  },
  {
   "cell_type": "code",
   "execution_count": 0,
   "metadata": {
    "application/vnd.databricks.v1+cell": {
     "cellMetadata": {
      "byteLimit": 2048000,
      "rowLimit": 10000
     },
     "inputWidgets": {},
     "nuid": "8dbadc9c-f337-4218-85f9-530ad80c5b15",
     "showTitle": false,
     "tableResultSettingsMap": {},
     "title": ""
    }
   },
   "outputs": [],
   "source": [
    "credit_card_installment_features_level_1.select(\"SK_ID_CURR\").distinct().count()"
   ]
  },
  {
   "cell_type": "code",
   "execution_count": 0,
   "metadata": {
    "application/vnd.databricks.v1+cell": {
     "cellMetadata": {
      "byteLimit": 2048000,
      "rowLimit": 10000
     },
     "inputWidgets": {},
     "nuid": "39642f77-ded7-446f-a8ae-0148b5462878",
     "showTitle": false,
     "tableResultSettingsMap": {},
     "title": ""
    }
   },
   "outputs": [],
   "source": [
    "credit_card_installment_features_level_2.filter(\"NAME_CONTRACT_TYPE = 'Revolving loans'\").count()"
   ]
  },
  {
   "cell_type": "code",
   "execution_count": 0,
   "metadata": {
    "application/vnd.databricks.v1+cell": {
     "cellMetadata": {
      "byteLimit": 2048000,
      "rowLimit": 10000
     },
     "inputWidgets": {},
     "nuid": "0edb6617-5905-463a-b5aa-9d59e76c71cd",
     "showTitle": false,
     "tableResultSettingsMap": {},
     "title": ""
    }
   },
   "outputs": [],
   "source": [
    "credit_card_installment_features_level_2.write.mode(\"overwrite\").saveAsTable(\"credit_card_installment_features_level_2\")"
   ]
  },
  {
   "cell_type": "code",
   "execution_count": 0,
   "metadata": {
    "application/vnd.databricks.v1+cell": {
     "cellMetadata": {
      "byteLimit": 2048000,
      "rowLimit": 10000
     },
     "inputWidgets": {},
     "nuid": "a9746f2a-b507-4bd4-99f4-f1710f4fa4ec",
     "showTitle": false,
     "tableResultSettingsMap": {},
     "title": ""
    }
   },
   "outputs": [],
   "source": [
    "# Step 1: Specify demographic features to pull directly\n",
    "demographic_features = [\n",
    "    \"CODE_GENDER\",\n",
    "    \"FLAG_OWN_CAR\",\n",
    "    \"FLAG_OWN_REALTY\",\n",
    "    \"CNT_CHILDREN\",\n",
    "    \"NAME_EDUCATION_TYPE\",\n",
    "    \"NAME_INCOME_TYPE\",\n",
    "    \"NAME_FAMILY_STATUS\",\n",
    "    \"REGION_POPULATION_RELATIVE\",\n",
    "    \"DAYS_BIRTH\",\n",
    "    \"DAYS_EMPLOYED\"\n",
    "]\n",
    "\n",
    "# Step 2: Filter numeric columns and compute correlations\n",
    "numeric_cols = [col for col, dtype in application_train.dtypes if dtype in ['int', 'double']]\n",
    "correlation_df = []\n",
    "for col in numeric_cols:\n",
    "    if col != \"TARGET\":\n",
    "        correlation_value = application_train.select(F.corr(\"TARGET\", col).alias(\"correlation\")).collect()[0][0]\n",
    "        if correlation_value is not None:\n",
    "            correlation_df.append((col, correlation_value))\n",
    "\n",
    "# Step 3: Create a DataFrame of correlations and select top numeric features\n",
    "correlation_df = spark.createDataFrame(correlation_df, [\"feature\", \"correlation\"])\n",
    "top_numeric_features = correlation_df.withColumn(\"abs_corr\", F.abs(F.col(\"correlation\"))) \\\n",
    "                                     .orderBy(F.col(\"abs_corr\").desc()) \\\n",
    "                                     .limit(10)\n",
    "\n",
    "numeric_features = [row[\"feature\"] for row in top_numeric_features.collect()]\n",
    "\n",
    "# Step 4: Combine demographic and numeric features\n",
    "selected_features = demographic_features + numeric_features + [\"TARGET\", \"SK_ID_CURR\"]\n",
    "\n",
    "# Step 5: Filter the application_train DataFrame with the selected features\n",
    "application_selected = application_train.select(selected_features)\n",
    "\n",
    "# Display the selected features\n",
    "application_selected.show()\n"
   ]
  },
  {
   "cell_type": "code",
   "execution_count": 0,
   "metadata": {
    "application/vnd.databricks.v1+cell": {
     "cellMetadata": {
      "byteLimit": 2048000,
      "rowLimit": 10000
     },
     "inputWidgets": {},
     "nuid": "fc534f61-8de1-4546-8cd0-49095e7ab839",
     "showTitle": false,
     "tableResultSettingsMap": {},
     "title": ""
    }
   },
   "outputs": [],
   "source": [
    "application_columns = [col for col in application_selected.columns if col != \"SK_ID_CURR\"]\n",
    "\n",
    "# Perform the join and select the required columns\n",
    "credit_card_installment_features_level_3 = credit_card_installment_features_level_2.alias(\"a\") \\\n",
    "    .join(\n",
    "        application_selected.alias(\"b\"),\n",
    "        on=F.col(\"a.SK_ID_CURR\") == F.col(\"b.SK_ID_CURR\"),\n",
    "        how=\"left\"\n",
    "    ) \\\n",
    "    .select(\"a.*\", *[F.col(f\"b.{col}\") for col in application_columns])\n",
    "\n",
    "# Display the result\n",
    "credit_card_installment_features_level_3.limit(10).display()"
   ]
  },
  {
   "cell_type": "code",
   "execution_count": 0,
   "metadata": {
    "application/vnd.databricks.v1+cell": {
     "cellMetadata": {
      "byteLimit": 2048000,
      "rowLimit": 10000
     },
     "inputWidgets": {},
     "nuid": "583a947a-e000-44e0-b686-2c362bc72641",
     "showTitle": false,
     "tableResultSettingsMap": {},
     "title": ""
    }
   },
   "outputs": [],
   "source": [
    "credit_card_installment_features_level_3.count()"
   ]
  },
  {
   "cell_type": "code",
   "execution_count": 0,
   "metadata": {
    "application/vnd.databricks.v1+cell": {
     "cellMetadata": {
      "byteLimit": 2048000,
      "rowLimit": 10000
     },
     "inputWidgets": {},
     "nuid": "5d867be7-3a9b-4933-a44a-1dae4debc311",
     "showTitle": false,
     "tableResultSettingsMap": {},
     "title": ""
    }
   },
   "outputs": [],
   "source": [
    "pos_cash_installment_features_level_3 = pos_cash_installment_features_level_2.alias(\"a\") \\\n",
    "    .join(\n",
    "        application_selected.alias(\"b\"),\n",
    "        on=F.col(\"a.SK_ID_CURR\") == F.col(\"b.SK_ID_CURR\"),\n",
    "        how=\"left\"\n",
    "    ) \\\n",
    "    .select(\"a.*\", *[F.col(f\"b.{col}\") for col in application_columns])\n",
    "\n",
    "pos_cash_installment_features_level_3.limit(10).display()"
   ]
  },
  {
   "cell_type": "code",
   "execution_count": 0,
   "metadata": {
    "application/vnd.databricks.v1+cell": {
     "cellMetadata": {
      "byteLimit": 2048000,
      "rowLimit": 10000
     },
     "inputWidgets": {},
     "nuid": "60ca7b4d-dd40-4790-862b-9ab49a74c886",
     "showTitle": false,
     "tableResultSettingsMap": {},
     "title": ""
    }
   },
   "outputs": [],
   "source": [
    "pos_cash_installment_features_level_3.count()"
   ]
  },
  {
   "cell_type": "code",
   "execution_count": 0,
   "metadata": {
    "application/vnd.databricks.v1+cell": {
     "cellMetadata": {
      "byteLimit": 2048000,
      "rowLimit": 10000
     },
     "inputWidgets": {},
     "nuid": "38d160ad-ddb1-4523-978f-960fc2213c71",
     "showTitle": false,
     "tableResultSettingsMap": {},
     "title": ""
    }
   },
   "outputs": [],
   "source": [
    "pos_cash_installment_features_level_3.write.mode(\"overwrite\").saveAsTable(\"pos_cash_installment_features_level_3\")\n"
   ]
  },
  {
   "cell_type": "code",
   "execution_count": 0,
   "metadata": {
    "application/vnd.databricks.v1+cell": {
     "cellMetadata": {
      "byteLimit": 2048000,
      "rowLimit": 10000
     },
     "inputWidgets": {},
     "nuid": "594e9f9e-6ecb-4a4d-9246-442e70a1a283",
     "showTitle": false,
     "tableResultSettingsMap": {},
     "title": ""
    }
   },
   "outputs": [],
   "source": [
    "credit_card_installment_features_level_3.write.mode(\"overwrite\").saveAsTable(\"credit_card_installment_features_level_3\")"
   ]
  },
  {
   "cell_type": "code",
   "execution_count": 0,
   "metadata": {
    "application/vnd.databricks.v1+cell": {
     "cellMetadata": {
      "byteLimit": 2048000,
      "rowLimit": 10000
     },
     "inputWidgets": {},
     "nuid": "8e4b8eed-4408-438c-9473-1af1e8bec2b2",
     "showTitle": false,
     "tableResultSettingsMap": {},
     "title": ""
    }
   },
   "outputs": [],
   "source": [
    "\n",
    "# # Step 1: Handle missing values\n",
    "# pos_cash_installment_features_level_3_temp = pos_cash_installment_features_level_3.fillna(0)\n",
    "# credit_card_installment_features_level_3_temp = credit_card_installment_features_level_3.fillna(0)\n",
    "\n",
    "# # Step 2: Identify numeric columns for scaling\n",
    "# numeric_columns_pos = [col for col, dtype in pos_cash_installment_features_level_3_temp.dtypes if dtype in ('double', 'int') and col != \"TARGET\"]\n",
    "# numeric_columns_credit = [col for col, dtype in credit_card_installment_features_level_3_temp.dtypes if dtype in ('double', 'int') and col != \"TARGET\"]\n",
    "\n",
    "# # Step 3: Assemble features\n",
    "# assembler_pos = VectorAssembler(inputCols=numeric_columns_pos, outputCol=\"features_assembled_pos\")\n",
    "# assembler_credit = VectorAssembler(inputCols=numeric_columns_credit, outputCol=\"features_assembled_credit\")\n",
    "\n",
    "# assembled_pos = assembler_pos.transform(pos_cash_installment_features_level_3_temp)\n",
    "# assembled_credit = assembler_credit.transform(credit_card_installment_features_level_3_temp)\n",
    "\n",
    "# # Step 4: Scale features\n",
    "# scaler_pos = StandardScaler(inputCol=\"features_assembled_pos\", outputCol=\"features_scaled_pos\", withStd=True, withMean=True)\n",
    "# scaler_credit = StandardScaler(inputCol=\"features_assembled_credit\", outputCol=\"features_scaled_credit\", withStd=True, withMean=True)\n",
    "\n",
    "# scaled_pos = scaler_pos.fit(assembled_pos).transform(assembled_pos)\n",
    "# scaled_credit = scaler_credit.fit(assembled_credit).transform(assembled_credit)"
   ]
  },
  {
   "cell_type": "code",
   "execution_count": 0,
   "metadata": {
    "application/vnd.databricks.v1+cell": {
     "cellMetadata": {
      "byteLimit": 2048000,
      "rowLimit": 10000
     },
     "inputWidgets": {},
     "nuid": "6e6c29cb-3e98-4694-9ad4-14083ef58fa4",
     "showTitle": false,
     "tableResultSettingsMap": {},
     "title": ""
    }
   },
   "outputs": [],
   "source": [
    "# # Step 5: Split data into train and test\n",
    "# train_pos, test_pos = scaled_pos.randomSplit([0.8, 0.2], seed=42)\n",
    "# train_credit, test_credit = scaled_credit.randomSplit([0.8, 0.2], seed=42)"
   ]
  },
  {
   "cell_type": "code",
   "execution_count": 0,
   "metadata": {
    "application/vnd.databricks.v1+cell": {
     "cellMetadata": {
      "byteLimit": 2048000,
      "rowLimit": 10000
     },
     "inputWidgets": {},
     "nuid": "ac3e7d37-d097-45db-8d20-fe8fa4fccbd3",
     "showTitle": false,
     "tableResultSettingsMap": {},
     "title": ""
    }
   },
   "outputs": [],
   "source": [
    "# models = {\n",
    "#     \"Logistic Regression\": LogisticRegression(labelCol=\"TARGET\", featuresCol=\"features_scaled_pos\", maxIter=100),  # Spark ML Logistic Regression\n",
    "#     \"Random Forest\": RandomForestClassifier(labelCol=\"TARGET\", featuresCol=\"features_scaled_pos\", numTrees=50, maxDepth=10, seed=42),  # Spark ML Random Forest\n",
    "#     \"Gradient Boosted Trees\": GBTClassifier(labelCol=\"TARGET\", featuresCol=\"features_scaled_pos\", maxIter=50, maxDepth=5, seed=42),  # Spark ML Gradient Boosted Trees\n",
    "# }"
   ]
  },
  {
   "cell_type": "code",
   "execution_count": 0,
   "metadata": {
    "application/vnd.databricks.v1+cell": {
     "cellMetadata": {
      "byteLimit": 2048000,
      "rowLimit": 10000
     },
     "inputWidgets": {},
     "nuid": "16c94a90-00ed-4065-bc63-5c740b1f659c",
     "showTitle": false,
     "tableResultSettingsMap": {},
     "title": ""
    }
   },
   "outputs": [],
   "source": [
    "# # Function to train and evaluate models\n",
    "# def evaluate_models(train_data, test_data, models):\n",
    "#     results = []\n",
    "#     for model_name, model in models.items():\n",
    "#         print(f\"Training {model_name}...\")\n",
    "#         trained_model = model.fit(train_data)\n",
    "        \n",
    "#         # Make predictions\n",
    "#         predictions = trained_model.transform(test_data)\n",
    "        \n",
    "#         # Evaluate using ROC-AUC\n",
    "#         evaluator = BinaryClassificationEvaluator(labelCol=\"TARGET\", rawPredictionCol=\"rawPrediction\", metricName=\"areaUnderROC\")\n",
    "#         roc_auc = evaluator.evaluate(predictions)\n",
    "        \n",
    "#         # Store results\n",
    "#         results.append((model_name, trained_model, roc_auc))\n",
    "#         print(f\"{model_name} ROC-AUC: {roc_auc:.4f}\")\n",
    "    \n",
    "#     return results\n"
   ]
  },
  {
   "cell_type": "code",
   "execution_count": 0,
   "metadata": {
    "application/vnd.databricks.v1+cell": {
     "cellMetadata": {
      "byteLimit": 2048000,
      "rowLimit": 10000
     },
     "inputWidgets": {},
     "nuid": "735bca42-1ee3-404f-b773-091e1a74ecf3",
     "showTitle": false,
     "tableResultSettingsMap": {},
     "title": ""
    }
   },
   "outputs": [],
   "source": [
    "# # Step 7: Train and evaluate models on POS Cash and Installments\n",
    "# print(\"\\nEvaluating models for POS Cash and Installments...\")\n",
    "# results_pos = evaluate_models(train_pos, test_pos, models)\n",
    "\n",
    "# # Step 8: Train and evaluate models on Credit Card and Installments\n",
    "# print(\"\\nEvaluating models for Credit Card and Installments...\")\n",
    "# results_credit = evaluate_models(train_credit, test_credit, models)\n"
   ]
  }
 ],
 "metadata": {
  "application/vnd.databricks.v1+notebook": {
   "computePreferences": null,
   "dashboards": [],
   "environmentMetadata": null,
   "language": "python",
   "notebookMetadata": {
    "mostRecentlyExecutedCommandWithImplicitDF": {
     "commandId": 4262360392626234,
     "dataframes": [
      "_sqldf"
     ]
    },
    "pythonIndentUnit": 4
   },
   "notebookName": "RPS_AMTF_Feature_Creation_Final",
   "widgets": {}
  },
  "language_info": {
   "name": "python"
  }
 },
 "nbformat": 4,
 "nbformat_minor": 0
}
